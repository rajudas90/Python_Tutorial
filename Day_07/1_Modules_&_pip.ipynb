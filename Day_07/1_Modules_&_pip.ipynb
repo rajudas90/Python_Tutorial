{
 "cells": [
  {
   "cell_type": "markdown",
   "id": "ae5a2f64-8314-4f4a-a753-9516538841cf",
   "metadata": {},
   "source": [
    "<h2 align=\"center\" style=\"color:blue\"> Modules & pip in Python </h2>"
   ]
  },
  {
   "cell_type": "markdown",
   "id": "996904fd-4ad1-48d0-a672-01adc446108d",
   "metadata": {},
   "source": [
    "### 1. What is a Module?\n",
    "- A module is simply a Python file (.py) that contains functions, classes, and variables which you can reuse in other programs.\n",
    "- Instead of writing everything in one file, you can split code into multiple modules.\n",
    "\n",
    "👉 Think of a module as a toolbox: you open it when you need specific tools."
   ]
  },
  {
   "cell_type": "markdown",
   "id": "992a4a52-7d56-49d8-bfa2-6860b3865895",
   "metadata": {},
   "source": [
    "### 2️. Types of Modules\n",
    "1. Built-in modules (come with Python): e.g., math, random, os, datetime\n",
    "2. User-defined modules (your own .py file)\n",
    "3. External modules (installed using pip, e.g., numpy, pandas)"
   ]
  },
  {
   "cell_type": "markdown",
   "id": "dff70c31-fe84-48d0-bc13-a7d2da91374f",
   "metadata": {},
   "source": [
    "#### Using Built-in Modules"
   ]
  },
  {
   "cell_type": "code",
   "execution_count": 5,
   "id": "9ab022f7-8a86-4d53-942b-d807ba90e2df",
   "metadata": {},
   "outputs": [
    {
     "name": "stdout",
     "output_type": "stream",
     "text": [
      "4.0\n",
      "3.141592653589793\n",
      "3.0\n"
     ]
    }
   ],
   "source": [
    "# Example 1: math\n",
    "import math\n",
    "\n",
    "print(math.sqrt(16))     # 4.0\n",
    "print(math.pi)           # 3.141592653589793\n",
    "print(math.log10(1000))  # 3"
   ]
  },
  {
   "cell_type": "code",
   "execution_count": 3,
   "id": "071ede63-9ced-437a-aea2-8ef9c266a1c1",
   "metadata": {},
   "outputs": [
    {
     "name": "stdout",
     "output_type": "stream",
     "text": [
      "4\n",
      "banana\n"
     ]
    }
   ],
   "source": [
    "# Example 2: random\n",
    "import random\n",
    "\n",
    "print(random.randint(1, 10))   # Random number between 1 and 10\n",
    "print(random.choice([\"apple\", \"banana\", \"cherry\"]))"
   ]
  },
  {
   "cell_type": "code",
   "execution_count": 12,
   "id": "828b4262-cc12-4a98-926e-875f15ea4d97",
   "metadata": {},
   "outputs": [
    {
     "name": "stdout",
     "output_type": "stream",
     "text": [
      "   September 2025\n",
      "Mo Tu We Th Fr Sa Su\n",
      " 1  2  3  4  5  6  7\n",
      " 8  9 10 11 12 13 14\n",
      "15 16 17 18 19 20 21\n",
      "22 23 24 25 26 27 28\n",
      "29 30\n",
      "\n"
     ]
    },
    {
     "data": {
      "text/plain": [
       "False"
      ]
     },
     "execution_count": 12,
     "metadata": {},
     "output_type": "execute_result"
    }
   ],
   "source": [
    "# Example 3: calendar\n",
    "import calendar\n",
    "\n",
    "sep = calendar.month(2025,9)\n",
    "print(sep)\n",
    "calendar.isleap(2025)"
   ]
  },
  {
   "cell_type": "markdown",
   "id": "e2b2e570-1e40-45a1-b1fa-b2b1fb92ccc3",
   "metadata": {},
   "source": [
    "### Python Built in module - https://docs.python.org/3/py-modindex.html"
   ]
  },
  {
   "cell_type": "markdown",
   "id": "ff3dceb3-f52f-4951-a826-f2ded8e39f50",
   "metadata": {},
   "source": [
    "### Python External module - https://pypi.org/"
   ]
  },
  {
   "cell_type": "markdown",
   "id": "3a869f8b-b245-49f3-835c-a8ae7123b9ba",
   "metadata": {},
   "source": [
    "### Three modules used a lot\n",
    "1. numpy -  used for data analysis and data cleaning\n",
    "2. pandas - used for data analysis and data cleaning\n",
    "3. scikit-learn - used for machine learning"
   ]
  },
  {
   "cell_type": "code",
   "execution_count": null,
   "id": "debfccfc-b28b-40a9-a17e-7a71a3906c8c",
   "metadata": {},
   "outputs": [],
   "source": []
  },
  {
   "cell_type": "markdown",
   "id": "2c68f6fe-9861-4068-babf-eba4114e94da",
   "metadata": {},
   "source": [
    "### pip in Python"
   ]
  },
  {
   "cell_type": "markdown",
   "id": "3f935b2b-8ad7-4dd6-b96b-efb6d922abab",
   "metadata": {},
   "source": [
    "- pip = Package Installer for Python\n",
    "- It allows you to install external libraries that are not built-in."
   ]
  },
  {
   "cell_type": "markdown",
   "id": "a5ca6ab8-77af-4e80-b26e-c643fa528f57",
   "metadata": {},
   "source": [
    "✅ Check pip version:\n",
    "- pip --version\n",
    "    \n",
    "✅ Install a package:\n",
    "- pip install numpy\n",
    "\n",
    "✅ Install a specific version:\n",
    "- pip install pandas==1.5.0\n",
    "\n",
    "✅ Upgrade a package:\n",
    "- pip install --upgrade requests\n",
    "\n",
    "✅ Uninstall a package:\n",
    "- pip uninstall flask\n",
    "\n",
    "✅ List installed packages:\n",
    "- pip list"
   ]
  },
  {
   "cell_type": "markdown",
   "id": "dbca643f-113a-4580-b336-d9f1106ef547",
   "metadata": {},
   "source": [
    "### External Module\n",
    "- pip install numpy"
   ]
  },
  {
   "cell_type": "code",
   "execution_count": 14,
   "id": "b346d5ec-ce6c-4bc6-9b6d-7c0ed3f9d705",
   "metadata": {},
   "outputs": [],
   "source": [
    "import numpy as np"
   ]
  },
  {
   "cell_type": "code",
   "execution_count": 15,
   "id": "0495e903-3448-44e7-85dc-77cb55e27f3a",
   "metadata": {},
   "outputs": [],
   "source": [
    "# Sales data for Quarter 1 (Matrix 1)\n",
    "# Rows represent different products, columns represent different regions\n",
    "\n",
    "q1 = np.array([\n",
    "    [200, 220, 250],  # Product A\n",
    "    [150, 180, 210],  # Product B\n",
    "    [300, 330, 360]   # Product C\n",
    "])\n",
    "\n",
    "q2 = np.array([\n",
    "    [209, 231, 259],  # Product A\n",
    "    [155, 192, 222],  # Product B\n",
    "    [310, 340, 375]   # Product C\n",
    "])"
   ]
  },
  {
   "cell_type": "code",
   "execution_count": 16,
   "id": "ff64c415-39d6-4ee8-be4f-be254515de4e",
   "metadata": {},
   "outputs": [
    {
     "data": {
      "text/plain": [
       "array([[409, 451, 509],\n",
       "       [305, 372, 432],\n",
       "       [610, 670, 735]])"
      ]
     },
     "execution_count": 16,
     "metadata": {},
     "output_type": "execute_result"
    }
   ],
   "source": [
    "q1 + q2"
   ]
  },
  {
   "cell_type": "code",
   "execution_count": 17,
   "id": "23d20636-65e5-4741-b6d9-df016c81c9d4",
   "metadata": {},
   "outputs": [
    {
     "data": {
      "text/plain": [
       "array([[ 9, 11,  9],\n",
       "       [ 5, 12, 12],\n",
       "       [10, 10, 15]])"
      ]
     },
     "execution_count": 17,
     "metadata": {},
     "output_type": "execute_result"
    }
   ],
   "source": [
    "q2 - q1"
   ]
  },
  {
   "cell_type": "code",
   "execution_count": 18,
   "id": "508706ad-117e-4bb7-87e5-0f01575a3fc3",
   "metadata": {},
   "outputs": [
    {
     "name": "stdout",
     "output_type": "stream",
     "text": [
      "Numpy Array: [1 2 3 4 5]\n",
      "Mean: 3.0\n"
     ]
    }
   ],
   "source": [
    "import numpy as np\n",
    "\n",
    "arr = np.array([1, 2, 3, 4, 5])\n",
    "print(\"Numpy Array:\", arr)\n",
    "print(\"Mean:\", np.mean(arr))\n"
   ]
  },
  {
   "cell_type": "markdown",
   "id": "b71784f7-8716-4a0b-b35b-cefa8304e27e",
   "metadata": {},
   "source": [
    "### Quick Summary Notes\n",
    "🔹 Modules\n",
    "- A module is a .py file with reusable code.\n",
    "- Built-in modules (math, random), User-defined modules, External modules.\n",
    "- Use import module_name to use.\n",
    "\n",
    "🔹 pip\n",
    "- Package manager for Python.\n",
    "- Install external libraries: pip install package_name.\n",
    "- Helps expand Python’s power with 3rd party tools."
   ]
  },
  {
   "cell_type": "code",
   "execution_count": null,
   "id": "88347cdc-b7ba-4941-862e-175a07b6e98b",
   "metadata": {},
   "outputs": [],
   "source": []
  }
 ],
 "metadata": {
  "kernelspec": {
   "display_name": "Python 3 (ipykernel)",
   "language": "python",
   "name": "python3"
  },
  "language_info": {
   "codemirror_mode": {
    "name": "ipython",
    "version": 3
   },
   "file_extension": ".py",
   "mimetype": "text/x-python",
   "name": "python",
   "nbconvert_exporter": "python",
   "pygments_lexer": "ipython3",
   "version": "3.10.11"
  }
 },
 "nbformat": 4,
 "nbformat_minor": 5
}
