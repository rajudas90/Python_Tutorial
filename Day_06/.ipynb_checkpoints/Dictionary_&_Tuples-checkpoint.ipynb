{
 "cells": [
  {
   "cell_type": "markdown",
   "id": "3930cea6-526a-4fb7-9ce4-1eb904e48467",
   "metadata": {},
   "source": [
    "<h2 align=\"center\" style=\"color:blue\"> Tuples in Python </h2>"
   ]
  },
  {
   "cell_type": "markdown",
   "id": "21a249b1-12f1-4788-ab5a-b0a8ad8dff1a",
   "metadata": {},
   "source": [
    "### 1️⃣ What is a Tuple?\n",
    "- A tuple is an ordered collection of items (like a list).\n",
    "- Defined using parentheses () instead of square brackets [].\n",
    "- Tuples can store different data types (int, str, float, etc.).\n",
    "\n",
    "👉 Main difference from lists:\n",
    "- Lists are mutable (can change).\n",
    "- Tuples are immutable (cannot be changed after creation)."
   ]
  },
  {
   "cell_type": "markdown",
   "id": "1163a720-f2a7-4283-8ce3-b4b039b81f71",
   "metadata": {},
   "source": [
    "### 2️⃣ Creating Tuples"
   ]
  },
  {
   "cell_type": "code",
   "execution_count": 2,
   "id": "8735694f-2941-41ca-87cc-116cbab4d49e",
   "metadata": {},
   "outputs": [],
   "source": [
    "# Empty tuple\n",
    "t1 = ()\n",
    "\n",
    "# Tuple with integers\n",
    "t2 = (1, 2, 3)\n",
    "\n",
    "# Tuple with mixed data types\n",
    "t3 = (10, \"Hello\", 3.14, True)\n",
    "\n",
    "# Tuple without parentheses (packing)\n",
    "t4 = 1, 2, 3, 4\n",
    "\n",
    "# Single element tuple → needs a comma\n",
    "t5 = (5,)  "
   ]
  },
  {
   "cell_type": "markdown",
   "id": "c642e8dc-0dbc-4d12-a680-ebbdad8f1929",
   "metadata": {},
   "source": [
    "### 3️⃣ Accessing Tuple Elements"
   ]
  },
  {
   "cell_type": "code",
   "execution_count": 3,
   "id": "8e6f732b-396e-4d2f-9d11-8a72808b1291",
   "metadata": {},
   "outputs": [
    {
     "name": "stdout",
     "output_type": "stream",
     "text": [
      "cat\n",
      "wolf\n",
      "('dog', 'rabbit')\n"
     ]
    }
   ],
   "source": [
    "my_tuple = (\"cat\", \"dog\", \"rabbit\", \"wolf\")\n",
    "\n",
    "print(my_tuple[0])   # cat\n",
    "print(my_tuple[-1])  # wolf\n",
    "print(my_tuple[1:3]) # ('dog', 'rabbit')"
   ]
  },
  {
   "cell_type": "markdown",
   "id": "246a79d5-85ea-4452-bba3-0cd94d47581f",
   "metadata": {},
   "source": [
    "### 4️⃣ Tuple is Immutable"
   ]
  },
  {
   "cell_type": "code",
   "execution_count": 5,
   "id": "42f634ae-888e-4960-b0a3-f3d1a50b415a",
   "metadata": {},
   "outputs": [],
   "source": [
    "t = (1, 2, 3)\n",
    "# t[0] = 100   ❌ Error: 'tuple' object does not support item assignment\n",
    "# You cannot add, remove, or change elements in a tuple."
   ]
  },
  {
   "cell_type": "markdown",
   "id": "768720d9-a56f-4f08-9214-64898beb1039",
   "metadata": {},
   "source": [
    "### 5️⃣ Tuple Operations"
   ]
  },
  {
   "cell_type": "code",
   "execution_count": 6,
   "id": "7e4d14dd-810d-403e-b050-5338e2c6883a",
   "metadata": {},
   "outputs": [
    {
     "name": "stdout",
     "output_type": "stream",
     "text": [
      "(1, 2, 3, 4, 5)\n",
      "(1, 2, 3, 1, 2, 3)\n",
      "3\n"
     ]
    }
   ],
   "source": [
    "a = (1, 2, 3)\n",
    "b = (4, 5)\n",
    "\n",
    "print(a + b)    # (1, 2, 3, 4, 5)  → Concatenation\n",
    "print(a * 2)    # (1, 2, 3, 1, 2, 3) → Repetition\n",
    "print(len(a))   # 3"
   ]
  },
  {
   "cell_type": "markdown",
   "id": "9acbd148-1381-4323-a30b-c92af1fcde3b",
   "metadata": {},
   "source": [
    "### 6️⃣ Membership Test"
   ]
  },
  {
   "cell_type": "code",
   "execution_count": 8,
   "id": "f0bd96ab-eab3-4b62-8e3b-e82beafdb35a",
   "metadata": {},
   "outputs": [
    {
     "name": "stdout",
     "output_type": "stream",
     "text": [
      "True\n",
      "True\n"
     ]
    }
   ],
   "source": [
    "t = (10, 20, 30)\n",
    "print(20 in t)     # True\n",
    "print(50 not in t) # True"
   ]
  },
  {
   "cell_type": "markdown",
   "id": "74ff366f-eb81-49a6-b2b8-ffffe09cfabd",
   "metadata": {},
   "source": [
    "### 7️⃣ Tuple Methods"
   ]
  },
  {
   "cell_type": "code",
   "execution_count": 9,
   "id": "6670c832-dbe4-4580-aae7-30cc5804c2f1",
   "metadata": {},
   "outputs": [
    {
     "name": "stdout",
     "output_type": "stream",
     "text": [
      "3\n",
      "3\n"
     ]
    }
   ],
   "source": [
    "# Tuples have only 2 methods (since they are immutable):\n",
    "t = (1, 2, 2, 3, 4, 2)\n",
    "\n",
    "print(t.count(2))  # 3 (how many times 2 occurs)\n",
    "print(t.index(3))  # 3 (first index of 3)"
   ]
  },
  {
   "cell_type": "markdown",
   "id": "8896fdd9-443c-4e7a-973c-b9a32d288b60",
   "metadata": {},
   "source": [
    "### 8️⃣ Nested Tuples"
   ]
  },
  {
   "cell_type": "code",
   "execution_count": 10,
   "id": "bce23326-95b5-452e-99dc-a400578ef93a",
   "metadata": {},
   "outputs": [
    {
     "name": "stdout",
     "output_type": "stream",
     "text": [
      "(2, 3)\n",
      "(5, 6)\n",
      "5\n"
     ]
    }
   ],
   "source": [
    "# Tuples can contain other tuples:\n",
    "nested = (1, (2, 3), (4, (5, 6)))\n",
    "print(nested[1])     # (2, 3)\n",
    "print(nested[2][1])  # (5, 6)\n",
    "print(nested[2][1][0]) # 5"
   ]
  },
  {
   "cell_type": "markdown",
   "id": "2f79253e-687e-472e-989c-8c0f7a289f93",
   "metadata": {},
   "source": [
    "### 9️⃣ Tuple Packing and Unpacking"
   ]
  },
  {
   "cell_type": "code",
   "execution_count": 11,
   "id": "c0ed52f8-cf5b-478b-a1fc-a7ff057e7c88",
   "metadata": {},
   "outputs": [
    {
     "name": "stdout",
     "output_type": "stream",
     "text": [
      "Raju\n",
      "25\n",
      "Kolkata\n"
     ]
    }
   ],
   "source": [
    "# Packing\n",
    "person = (\"Raju\", 25, \"Kolkata\")\n",
    "\n",
    "# Unpacking\n",
    "name, age, city = person\n",
    "print(name)  # Raju\n",
    "print(age)   # 25\n",
    "print(city)  # Kolkata"
   ]
  },
  {
   "cell_type": "markdown",
   "id": "2937543e-dd2f-4f4f-977e-1ed37b5ea80b",
   "metadata": {},
   "source": [
    "#### Calculate PE & PB values using List"
   ]
  },
  {
   "cell_type": "code",
   "execution_count": 13,
   "id": "84030a40-694b-4f3e-87c3-e64b3ce44645",
   "metadata": {},
   "outputs": [
    {
     "name": "stdout",
     "output_type": "stream",
     "text": [
      "PE value is: 50.0\n",
      "PB value is: 25.0\n"
     ]
    }
   ],
   "source": [
    "def find_pe_and_pb(price, eps, book_value):\n",
    "    PE = price/eps\n",
    "    PB = price/book_value\n",
    "    return(PE, PB)\n",
    "val = find_pe_and_pb(100, 2, 4)\n",
    "print(\"PE value is:\", val[0])\n",
    "print(\"PB value is:\", val[1])"
   ]
  },
  {
   "cell_type": "markdown",
   "id": "6decb2cf-6616-48f8-8105-ea008917577e",
   "metadata": {},
   "source": [
    "#### Calculate PE & PB values using Tuple"
   ]
  },
  {
   "cell_type": "code",
   "execution_count": 15,
   "id": "a1a17d9e-f958-4c3a-9aa5-d061901d35aa",
   "metadata": {},
   "outputs": [
    {
     "name": "stdout",
     "output_type": "stream",
     "text": [
      "PE value: 100.0\n",
      "PB value: 50.0\n"
     ]
    }
   ],
   "source": [
    "def pe_and_pb(price, eps, book_value):\n",
    "    pe = price/eps\n",
    "    pb = price/book_value\n",
    "    return pe, pb\n",
    "pe_ratio, pb_ratio = pe_and_pb(200, 2, 4)\n",
    "print(\"PE value:\", pe_ratio)\n",
    "print(\"PB value:\", pb_ratio)"
   ]
  },
  {
   "cell_type": "markdown",
   "id": "3b6a859b-6ac6-4de4-8ad7-b14ffb26858d",
   "metadata": {},
   "source": [
    "### 🔟 Why Use Tuples?\n",
    "- Faster than lists (performance).\n",
    "- Useful for fixed collections of items (like coordinates, days of the week, database records).\n",
    "- Can be used as dictionary keys (lists cannot, because lists are mutable)."
   ]
  },
  {
   "cell_type": "markdown",
   "id": "ec00b62b-442f-439d-8965-aa72828c5ed6",
   "metadata": {},
   "source": [
    "### 📝 Quick Summary Notes\n",
    "- Tuples are defined with ().\n",
    "- Tuples are immutable (cannot modify after creation).\n",
    "- Support indexing, slicing, concatenation, repetition.\n",
    "- Have only two methods: .count() and .index().\n",
    "- Support packing/unpacking.\n",
    "- Tuples are hashable, so they can be used as dictionary keys."
   ]
  },
  {
   "cell_type": "markdown",
   "id": "13c32049-16fe-4ff5-9e9d-268f9b604c8f",
   "metadata": {},
   "source": [
    "<h2 align=\"center\" style=\"color:blue\"> Dictionary in Python </h2>"
   ]
  },
  {
   "cell_type": "markdown",
   "id": "189202b2-133c-4ce1-859e-5e498b2f843d",
   "metadata": {},
   "source": [
    "### 1. What is Hashing?\n",
    "- Hashing is a way to convert data (like a string, number, or tuple) into a fixed-size value (called a hash) using a special function (hash() in Python).\n",
    "- This hash value helps Python quickly find or compare objects.\n",
    "- Think of it like giving every object a unique ID number."
   ]
  },
  {
   "cell_type": "code",
   "execution_count": 16,
   "id": "b199790f-ad3a-4615-b7e4-69f53fe3113c",
   "metadata": {},
   "outputs": [
    {
     "name": "stdout",
     "output_type": "stream",
     "text": [
      "8981619444047429858\n",
      "123\n",
      "529344067295497451\n"
     ]
    }
   ],
   "source": [
    "print(hash(\"Raju\"))\n",
    "print(hash(123))\n",
    "print(hash((1, 2, 3)))   # tuple is hashable"
   ]
  },
  {
   "cell_type": "markdown",
   "id": "cec2392b-a991-42a2-b5c3-ff2f471a1704",
   "metadata": {},
   "source": [
    "### 👉 Note:\n",
    "- Only immutable objects (like int, float, string, tuple) are hashable.\n",
    "- Lists, sets, and dicts are not hashable because they are mutable (can change)."
   ]
  },
  {
   "cell_type": "markdown",
   "id": "df7c526f-afeb-496c-bea1-29f752a7e3af",
   "metadata": {},
   "source": [
    "### 🔹 2. What is a Dictionary in Python?\n",
    "- A dictionary is a collection of key-value pairs.\n",
    "- It is like a real dictionary: you look up a word (key) and get its meaning (value).\n",
    "- In Python, dictionaries use hashing internally to store and retrieve values quickly."
   ]
  },
  {
   "cell_type": "markdown",
   "id": "f80b9b33-a328-4ea7-91de-184809f7fd5b",
   "metadata": {},
   "source": [
    "### 3️⃣ Creating a Dictionary"
   ]
  },
  {
   "cell_type": "code",
   "execution_count": 17,
   "id": "11a46f05-86cc-4680-b61c-912f0be5a6ef",
   "metadata": {},
   "outputs": [
    {
     "name": "stdout",
     "output_type": "stream",
     "text": [
      "Raju\n",
      "25\n"
     ]
    }
   ],
   "source": [
    "# Empty dictionary\n",
    "my_dict = {}\n",
    "\n",
    "# Dictionary with data\n",
    "student = {\"name\": \"Raju\", \"age\": 25, \"city\": \"Kolkata\"}\n",
    "\n",
    "print(student[\"name\"])  # Raju\n",
    "print(student[\"age\"])   # 25"
   ]
  },
  {
   "cell_type": "markdown",
   "id": "29382ffa-8638-4b40-99e1-41f0f0545801",
   "metadata": {},
   "source": [
    "### 4️⃣ Adding & Updating Values"
   ]
  },
  {
   "cell_type": "code",
   "execution_count": 18,
   "id": "bc326183-1ac0-48b9-a787-06805d61f353",
   "metadata": {},
   "outputs": [
    {
     "name": "stdout",
     "output_type": "stream",
     "text": [
      "{'name': 'Raju', 'age': 26, 'city': 'Kolkata', 'course': 'Python'}\n"
     ]
    }
   ],
   "source": [
    "student[\"age\"] = 26     # Update value\n",
    "student[\"course\"] = \"Python\"  # Add new key-value pair\n",
    "print(student)"
   ]
  },
  {
   "cell_type": "markdown",
   "id": "1779a835-4535-41dd-bd9e-9cd2b485b35f",
   "metadata": {},
   "source": [
    "### 5️⃣ Removing Values"
   ]
  },
  {
   "cell_type": "code",
   "execution_count": 19,
   "id": "8a5462ed-63bb-49fb-a051-9424ce6a946e",
   "metadata": {},
   "outputs": [
    {
     "name": "stdout",
     "output_type": "stream",
     "text": [
      "{'name': 'Raju', 'age': 26, 'course': 'Python'}\n",
      "{'name': 'Raju', 'course': 'Python'}\n",
      "{}\n"
     ]
    }
   ],
   "source": [
    "student.pop(\"city\")    # Remove city\n",
    "print(student)\n",
    "\n",
    "del student[\"age\"]    # remove age\n",
    "print(student)\n",
    "\n",
    "student.clear()      # removes everythings\n",
    "print(student)       # {}"
   ]
  },
  {
   "cell_type": "markdown",
   "id": "538d6cd9-72fd-4841-bfb5-2d187eaf7b5b",
   "metadata": {},
   "source": [
    "### 6️⃣ Dictionary Methods"
   ]
  },
  {
   "cell_type": "code",
   "execution_count": 20,
   "id": "11ba6906-f920-41c1-ae38-859d706b1039",
   "metadata": {},
   "outputs": [
    {
     "name": "stdout",
     "output_type": "stream",
     "text": [
      "dict_keys(['name', 'age', 'city'])\n",
      "dict_values(['Raju', 25, 'kolkata'])\n",
      "dict_items([('name', 'Raju'), ('age', 25), ('city', 'kolkata')])\n",
      "name : Raju\n",
      "age : 25\n",
      "city : kolkata\n"
     ]
    }
   ],
   "source": [
    "person = {\"name\": \"Raju\", \"age\": 25, \"city\": \"kolkata\"}\n",
    "\n",
    "print(person.keys())    # dict_keys(['name', 'age', 'city'])\n",
    "print(person.values())  # dict_values(['Raju', 25, 'kolkata'])\n",
    "print(person.items())   # dict_items([('name', 'Raju'), ('age', 25), ('city', 'Kolkata')])\n",
    "\n",
    "# Iterating\n",
    "for key, value in person.items():\n",
    "    print(key, \":\", value)"
   ]
  },
  {
   "cell_type": "markdown",
   "id": "5a87e4ae-329c-4f92-9bcc-2211d879f414",
   "metadata": {},
   "source": [
    "### 7️⃣ Nested Dictionary"
   ]
  },
  {
   "cell_type": "code",
   "execution_count": 21,
   "id": "71613400-1621-4e21-ae17-1f0dc0c0db93",
   "metadata": {},
   "outputs": [
    {
     "name": "stdout",
     "output_type": "stream",
     "text": [
      "Raju\n"
     ]
    }
   ],
   "source": [
    "students = {\n",
    "    \"101\": {\"name\": \"Raju\", \"age\": 25},\n",
    "    \"102\": {\"name\": \"Amit\", \"age\": 22}\n",
    "}\n",
    "\n",
    "print(students[\"101\"][\"name\"])  # Raju"
   ]
  },
  {
   "cell_type": "markdown",
   "id": "55b484dd-2674-44f0-bc0f-f95750e285af",
   "metadata": {},
   "source": [
    "### 8️⃣ Dictionary & Hash\n",
    "- Keys in a dictionary must be hashable.\n",
    "- Example:"
   ]
  },
  {
   "cell_type": "code",
   "execution_count": 22,
   "id": "c9d20a75-7917-4af0-9251-d2faf77d0c5c",
   "metadata": {},
   "outputs": [],
   "source": [
    "# Valid (hashable keys: str, int, tuple)\n",
    "my_dict = {\n",
    "    \"name\": \"Raju\",\n",
    "    123: \"ID Number\",\n",
    "    (1, 2): \"Tuple Key\"\n",
    "}\n",
    "\n",
    "# Invalid (list is not hashable → ❌ TypeError)\n",
    "# my_dict = {[1,2]: \"list key\"}"
   ]
  },
  {
   "cell_type": "markdown",
   "id": "202b8774-0bf1-4e63-a7a5-29595592ee60",
   "metadata": {},
   "source": [
    "### Example"
   ]
  },
  {
   "cell_type": "code",
   "execution_count": 25,
   "id": "8031ecbb-73fc-4cda-a35f-81cdba92068e",
   "metadata": {},
   "outputs": [
    {
     "data": {
      "text/plain": [
       "{'rachel': 8785478900, 'monica': 4785124789, 'joey': 4578124785}"
      ]
     },
     "execution_count": 25,
     "metadata": {},
     "output_type": "execute_result"
    }
   ],
   "source": [
    "d = {\n",
    "    'rachel': 8785478900,\n",
    "    'monica': 4785124789,\n",
    "    'joey': 4578124785\n",
    "}\n",
    "d"
   ]
  },
  {
   "cell_type": "code",
   "execution_count": 24,
   "id": "97c0eb31-1e55-4c02-9b1d-9b2ca9eb46bf",
   "metadata": {},
   "outputs": [
    {
     "data": {
      "text/plain": [
       "dict"
      ]
     },
     "execution_count": 24,
     "metadata": {},
     "output_type": "execute_result"
    }
   ],
   "source": [
    "type(d)"
   ]
  },
  {
   "cell_type": "code",
   "execution_count": 27,
   "id": "314ed4b5-d72b-4ffb-b26b-8caf8aff182c",
   "metadata": {},
   "outputs": [
    {
     "data": {
      "text/plain": [
       "4578124785"
      ]
     },
     "execution_count": 27,
     "metadata": {},
     "output_type": "execute_result"
    }
   ],
   "source": [
    "# if exist in the dictionary\n",
    "d['joey']"
   ]
  },
  {
   "cell_type": "code",
   "execution_count": 28,
   "id": "b863bebb-e76a-4552-8594-239d09aab20e",
   "metadata": {},
   "outputs": [
    {
     "ename": "KeyError",
     "evalue": "'satya'",
     "output_type": "error",
     "traceback": [
      "\u001b[1;31m---------------------------------------------------------------------------\u001b[0m",
      "\u001b[1;31mKeyError\u001b[0m                                  Traceback (most recent call last)",
      "Cell \u001b[1;32mIn[28], line 2\u001b[0m\n\u001b[0;32m      1\u001b[0m \u001b[38;5;66;03m# if does not exist in the dictionary\u001b[39;00m\n\u001b[1;32m----> 2\u001b[0m \u001b[43md\u001b[49m\u001b[43m[\u001b[49m\u001b[38;5;124;43m'\u001b[39;49m\u001b[38;5;124;43msatya\u001b[39;49m\u001b[38;5;124;43m'\u001b[39;49m\u001b[43m]\u001b[49m\n",
      "\u001b[1;31mKeyError\u001b[0m: 'satya'"
     ]
    }
   ],
   "source": [
    "# if does not exist in the dictionary\n",
    "d['satya']"
   ]
  },
  {
   "cell_type": "code",
   "execution_count": 30,
   "id": "bad49fda-2b35-43fb-a348-6f695358c213",
   "metadata": {},
   "outputs": [],
   "source": [
    "# to handel this error use .get function, in this case output will be null or specified value if does not exist\n",
    "\n",
    "d.get('satya')  # output will be null because output is not specified"
   ]
  },
  {
   "cell_type": "code",
   "execution_count": 31,
   "id": "135475e5-f064-4b89-adcd-d4cd299763bf",
   "metadata": {},
   "outputs": [
    {
     "data": {
      "text/plain": [
       "-1"
      ]
     },
     "execution_count": 31,
     "metadata": {},
     "output_type": "execute_result"
    }
   ],
   "source": [
    "d.get('satya', -1)  # output will be specified ie. -1"
   ]
  },
  {
   "cell_type": "code",
   "execution_count": 36,
   "id": "48747ac6-25b7-49df-9e5c-dbce962af79f",
   "metadata": {},
   "outputs": [
    {
     "name": "stdout",
     "output_type": "stream",
     "text": [
      "USA iPhone : 20 million $\n",
      "USA iPad : 12 million $\n",
      "USA MacBook : 8 million $\n",
      "China iPhone : 17 million $\n",
      "China iPad : 9 million $\n",
      "China MacBook : 6 million $\n",
      "India iPhone : 9 million $\n",
      "India iPad : 4 million $\n",
      "India MacBook : 2 million $\n"
     ]
    }
   ],
   "source": [
    "appl_revenues = {\n",
    "    \"USA\": {\"iPhone\": 20, \"iPad\": 12, \"MacBook\": 8},\n",
    "    \"China\": {\"iPhone\": 17, \"iPad\": 9, \"MacBook\": 6},\n",
    "    \"India\": {\"iPhone\": 9, \"iPad\": 4, \"MacBook\": 2}\n",
    "}\n",
    "for country, product_data in appl_revenues.items():\n",
    "    for product, rev in product_data.items():\n",
    "        print(f\"{country} {product} : {rev} million $\")\n",
    "    "
   ]
  },
  {
   "cell_type": "code",
   "execution_count": null,
   "id": "c6758f51-d739-4ee2-8bff-310144b9f1c7",
   "metadata": {},
   "outputs": [],
   "source": []
  },
  {
   "cell_type": "code",
   "execution_count": null,
   "id": "89a8d8e0-c901-4cc1-b494-fa2e5913cbee",
   "metadata": {},
   "outputs": [],
   "source": []
  }
 ],
 "metadata": {
  "kernelspec": {
   "display_name": "Python 3 (ipykernel)",
   "language": "python",
   "name": "python3"
  },
  "language_info": {
   "codemirror_mode": {
    "name": "ipython",
    "version": 3
   },
   "file_extension": ".py",
   "mimetype": "text/x-python",
   "name": "python",
   "nbconvert_exporter": "python",
   "pygments_lexer": "ipython3",
   "version": "3.13.1"
  }
 },
 "nbformat": 4,
 "nbformat_minor": 5
}
