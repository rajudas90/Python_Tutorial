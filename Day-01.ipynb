{
 "cells": [
  {
   "cell_type": "markdown",
   "id": "bf957881-5a2a-4017-aed0-3db0cc35781b",
   "metadata": {},
   "source": [
    "## 🧠 1. What is a Variable? - \n",
    "- A variable is like a container for storing data.\n",
    "- You can assign any value to a variable using the = operator."
   ]
  },
  {
   "cell_type": "markdown",
   "id": "2b8759db-5d26-4e7a-89de-a22484fcde82",
   "metadata": {},
   "source": [
    "#### ✅ Syntax:"
   ]
  },
  {
   "cell_type": "code",
   "execution_count": 3,
   "id": "03344f0a-c284-468b-afba-46b01e169527",
   "metadata": {},
   "outputs": [
    {
     "name": "stdout",
     "output_type": "stream",
     "text": [
      "Raju\n",
      "25\n",
      "5.9\n"
     ]
    }
   ],
   "source": [
    "name = \"Raju\"\n",
    "age = 25\n",
    "height = 5.9\n",
    "print(name)\n",
    "print(age)\n",
    "print(height)"
   ]
  },
  {
   "cell_type": "code",
   "execution_count": 15,
   "id": "5ea9986d-2292-4709-b60e-25f90f9cccf4",
   "metadata": {},
   "outputs": [
    {
     "data": {
      "text/plain": [
       "str"
      ]
     },
     "execution_count": 15,
     "metadata": {},
     "output_type": "execute_result"
    }
   ],
   "source": [
    "type(name) # type of the variable name is String"
   ]
  },
  {
   "cell_type": "code",
   "execution_count": 16,
   "id": "001b27e0-6b93-462f-8323-60ac70caefb4",
   "metadata": {},
   "outputs": [
    {
     "data": {
      "text/plain": [
       "int"
      ]
     },
     "execution_count": 16,
     "metadata": {},
     "output_type": "execute_result"
    }
   ],
   "source": [
    "type(age) # type of the variable name is Integer"
   ]
  },
  {
   "cell_type": "code",
   "execution_count": 17,
   "id": "92872725-8c29-4000-9d40-2acdbea649c7",
   "metadata": {},
   "outputs": [
    {
     "data": {
      "text/plain": [
       "float"
      ]
     },
     "execution_count": 17,
     "metadata": {},
     "output_type": "execute_result"
    }
   ],
   "source": [
    "type(height) # type of the variable name is Float"
   ]
  },
  {
   "cell_type": "markdown",
   "id": "0d912907-a38e-43ad-a6fb-7d869ac1f7e8",
   "metadata": {},
   "source": [
    "##### Details of the variable used above\n",
    "- name is a variable that stores a string.\n",
    "- age is a variable that stores an integer.\n",
    "- height is a veriable that stores a float (decimal number)."
   ]
  },
  {
   "cell_type": "code",
   "execution_count": 18,
   "id": "40a8f681-c16d-4d75-bb7c-baba3e4c8f86",
   "metadata": {},
   "outputs": [
    {
     "data": {
      "text/plain": [
       "220.5"
      ]
     },
     "execution_count": 18,
     "metadata": {},
     "output_type": "execute_result"
    }
   ],
   "source": [
    "pizza = 100\n",
    "samosa = 20.5\n",
    "ice_cream = 100\n",
    "total = pizza+samosa+ice_cream\n",
    "total"
   ]
  },
  {
   "cell_type": "code",
   "execution_count": 19,
   "id": "0f459a4d-181b-46dd-8806-90012580f39a",
   "metadata": {},
   "outputs": [
    {
     "data": {
      "text/plain": [
       "float"
      ]
     },
     "execution_count": 19,
     "metadata": {},
     "output_type": "execute_result"
    }
   ],
   "source": [
    "type(total)"
   ]
  },
  {
   "cell_type": "code",
   "execution_count": null,
   "id": "35fb4d7e-c6cc-463e-8335-63134c8b4f64",
   "metadata": {},
   "outputs": [],
   "source": []
  },
  {
   "cell_type": "markdown",
   "id": "7b778dd7-6aa3-40b4-9613-9593624550c1",
   "metadata": {},
   "source": [
    "### A. Boolean Values in Python"
   ]
  },
  {
   "cell_type": "markdown",
   "id": "4820a1ef-1887-4ca0-8ba1-e7424ffc2227",
   "metadata": {},
   "source": [
    "##### Boolean represents one of two values:\n",
    "- True\n",
    "- False\n",
    "- These are used for decision-making (like conditions, logic, etc.)"
   ]
  },
  {
   "cell_type": "code",
   "execution_count": 20,
   "id": "6d4f6c15-7916-4276-97ae-940e2618216d",
   "metadata": {},
   "outputs": [],
   "source": [
    "is_logged_in = True\n",
    "has_access = False\n",
    "# Notice that True and False both start with a capital letter — it’s important!"
   ]
  },
  {
   "cell_type": "code",
   "execution_count": 21,
   "id": "2e3042d4-a5a3-44cc-9c60-029c1954ea7a",
   "metadata": {},
   "outputs": [
    {
     "name": "stdout",
     "output_type": "stream",
     "text": [
      "True\n"
     ]
    }
   ],
   "source": [
    "age = 20\n",
    "is_adult = age >= 18   # True\n",
    "print(is_adult)        # Output: True"
   ]
  },
  {
   "cell_type": "code",
   "execution_count": 22,
   "id": "828b0f02-9636-44b7-a339-5fc09bd81334",
   "metadata": {},
   "outputs": [
    {
     "name": "stdout",
     "output_type": "stream",
     "text": [
      "<class 'bool'>\n"
     ]
    }
   ],
   "source": [
    "print(type(is_adult))  # <class 'bool'>"
   ]
  },
  {
   "cell_type": "markdown",
   "id": "a935c009-9b0d-49df-bf3f-79bf7141af04",
   "metadata": {},
   "source": [
    "##### Boolean Operators:\n",
    "| Operator | Meaning      | Example          | Result  |\n",
    "| -------- | ------------ | ---------------- | ------- |\n",
    "| `==`     | Equal to     | `5 == 5`         | `True`  |\n",
    "| `!=`     | Not equal to | `5 != 3`         | `True`  |\n",
    "| `>`      | Greater than | `10 > 3`         | `True`  |\n",
    "| `<`      | Less than    | `2 < 4`          | `True`  |\n",
    "| `and`    | Logical AND  | `True and False` | `False` |\n",
    "| `or`     | Logical OR   | `True or False`  | `True`  |\n",
    "| `not`    | Logical NOT  | `not True`       | `False` |\n"
   ]
  },
  {
   "cell_type": "code",
   "execution_count": null,
   "id": "b05130af-4e75-43b6-bf5d-622da3a5c877",
   "metadata": {},
   "outputs": [],
   "source": []
  },
  {
   "cell_type": "markdown",
   "id": "06d21d01-2d39-45d9-a4e9-3bb85b3d706d",
   "metadata": {},
   "source": [
    "### B. ID of a Variable in Python"
   ]
  },
  {
   "cell_type": "markdown",
   "id": "6d927a08-d544-4a3e-aab9-e640f2028647",
   "metadata": {},
   "source": [
    "##### What is id()?\n",
    "- Every object in Python has a unique ID — it’s like a memory address.\n",
    "- You can view it using the built-in id() function."
   ]
  },
  {
   "cell_type": "code",
   "execution_count": 23,
   "id": "32d687b5-a875-4578-af87-9ae599118542",
   "metadata": {},
   "outputs": [
    {
     "name": "stdout",
     "output_type": "stream",
     "text": [
      "2314600382992\n"
     ]
    }
   ],
   "source": [
    "x = 10\n",
    "print(id(x))  # prints the memory ID of variable x"
   ]
  },
  {
   "cell_type": "markdown",
   "id": "ff086f97-0239-4f24-9e85-b441c41b88d0",
   "metadata": {},
   "source": [
    "##### Why is this useful?\n",
    "- To check whether two variables point to the same object in memory."
   ]
  },
  {
   "cell_type": "code",
   "execution_count": 26,
   "id": "d0795ea1-7a47-4716-9e66-c6aa005d278d",
   "metadata": {},
   "outputs": [
    {
     "name": "stdout",
     "output_type": "stream",
     "text": [
      "2314600382832\n",
      "2314600382832\n",
      "2314677338240\n",
      "2314677616832\n"
     ]
    }
   ],
   "source": [
    "a = 5\n",
    "b = 5\n",
    "print(id(a))       # e.g., 140732946552784\n",
    "print(id(b))       # same as id(a) — small integers are reused\n",
    "\n",
    "c = [1, 2, 3]\n",
    "d = [1, 2, 3]\n",
    "print(id(c))       # Different ID than d\n",
    "print(id(d))\n",
    "\n",
    "#Even though c and d have the same values, they are stored in different locations (because they’re separate lists)."
   ]
  },
  {
   "cell_type": "code",
   "execution_count": 1,
   "id": "fa42d32e-88e3-4a47-a3b4-d041ddc1fea2",
   "metadata": {},
   "outputs": [
    {
     "name": "stdout",
     "output_type": "stream",
     "text": [
      "Is adult? True\n",
      "<class 'bool'>\n"
     ]
    }
   ],
   "source": [
    "# Boolean example\n",
    "age = 20\n",
    "is_adult = age >= 18\n",
    "print(\"Is adult?\", is_adult)\n",
    "print(type(is_adult))"
   ]
  },
  {
   "cell_type": "code",
   "execution_count": 2,
   "id": "1f413c93-db6f-4540-9226-5bdf9e30867a",
   "metadata": {},
   "outputs": [
    {
     "name": "stdout",
     "output_type": "stream",
     "text": [
      "ID of x: 1952133614928\n",
      "ID of y: 1952133614928\n",
      "ID of list1: 1952210921984\n",
      "ID of list2: 1952210920768\n"
     ]
    }
   ],
   "source": [
    "# id() example\n",
    "x = 100\n",
    "y = 100\n",
    "print(\"ID of x:\", id(x))\n",
    "print(\"ID of y:\", id(y))\n",
    "\n",
    "list1 = [1, 2]\n",
    "list2 = [1, 2]\n",
    "print(\"ID of list1:\", id(list1))\n",
    "print(\"ID of list2:\", id(list2))"
   ]
  },
  {
   "cell_type": "markdown",
   "id": "51d32c10-c1ad-441b-b657-4bec571a7b13",
   "metadata": {},
   "source": [
    "##### Boolean Values\n",
    "- Used to represent True/False.\n",
    "- Examples: True, False\n",
    "- Often used in logic/conditions.\n",
    "- Boolean expressions use: ==, !=, >, <, and, or, not\n",
    "\n",
    "##### id() Function\n",
    "- Shows the unique identity of an object.\n",
    "- Syntax: id(variable)\n",
    "- Useful for checking if two variables refer to the same memory object.\n"
   ]
  },
  {
   "cell_type": "code",
   "execution_count": null,
   "id": "1f76bda0-7959-4b1b-bebb-8368e0dc8a6b",
   "metadata": {},
   "outputs": [],
   "source": []
  },
  {
   "cell_type": "markdown",
   "id": "20618263-cf1e-4fa3-9424-9b30e2d264e7",
   "metadata": {},
   "source": [
    "### C. What is a Naming Convention?\n",
    "- A naming convention is a set of rules or guidelines for how you name variables, functions, classes, etc.\n",
    "- Python follows PEP 8 — the official style guide for Python code."
   ]
  },
  {
   "cell_type": "markdown",
   "id": "4edf88b5-b3ce-4f23-aef8-8cf2cb41a3d5",
   "metadata": {},
   "source": [
    "#### ✅ Python Variable Naming Rules (Must Follow)"
   ]
  },
  {
   "cell_type": "markdown",
   "id": "bec2fe32-6b7a-4683-ac9a-ce52ac92669a",
   "metadata": {},
   "source": [
    "##### 1. ✅ Variable names can contain:\n",
    "- Letters (a-z, A-Z)\n",
    "- Digits (0-9)\n",
    "- Underscore (_)"
   ]
  },
  {
   "cell_type": "markdown",
   "id": "5bdb698f-877f-47ae-bfb2-3cc8e8d76631",
   "metadata": {},
   "source": [
    "##### 2. ❌ Variable names cannot start with a digit\n",
    "- 1name = \"Raju\"    # ❌ Invalid\n",
    "- name1 = \"Raju\"    # ✅ Valid"
   ]
  },
  {
   "cell_type": "markdown",
   "id": "4bf86eef-3217-4268-977f-ae67f343ee49",
   "metadata": {},
   "source": [
    "##### 3. ❌ No spaces allowed\n",
    "- Use underscore _ instead.\n",
    "- user name = \"Raju\"    # ❌ Invalid\n",
    "- user_name = \"Raju\"    # ✅ Valid"
   ]
  },
  {
   "cell_type": "markdown",
   "id": "4e19c831-da4a-43de-802f-579ac84fc6ce",
   "metadata": {},
   "source": [
    "##### 4. ❌ Don't use Python keywords as variable names\n",
    "- def = 5        # ❌ Invalid, \"def\" is a reserved keyword\n",
    "- True = 100     # ❌ Invalid, \"def\" is a reserved keyword"
   ]
  },
  {
   "cell_type": "markdown",
   "id": "5db155c7-3316-4cfb-91ed-cfafa12d4ff0",
   "metadata": {},
   "source": [
    "##### 5. ✅ Use this to check all Python keywords:"
   ]
  },
  {
   "cell_type": "code",
   "execution_count": 4,
   "id": "001dbdee-04eb-44cb-aec2-d9e8b186f404",
   "metadata": {},
   "outputs": [
    {
     "name": "stdout",
     "output_type": "stream",
     "text": [
      "['False', 'None', 'True', 'and', 'as', 'assert', 'async', 'await', 'break', 'class', 'continue', 'def', 'del', 'elif', 'else', 'except', 'finally', 'for', 'from', 'global', 'if', 'import', 'in', 'is', 'lambda', 'nonlocal', 'not', 'or', 'pass', 'raise', 'return', 'try', 'while', 'with', 'yield']\n"
     ]
    }
   ],
   "source": [
    "import keyword\n",
    "print(keyword.kwlist)"
   ]
  },
  {
   "cell_type": "code",
   "execution_count": null,
   "id": "032e11bf-fb12-405e-a467-3fc163edc76c",
   "metadata": {},
   "outputs": [],
   "source": []
  },
  {
   "cell_type": "markdown",
   "id": "38e40719-0ecd-4d02-9e61-6bdd73c048b0",
   "metadata": {},
   "source": [
    "#### ✅ Best Practices (Recommended)"
   ]
  },
  {
   "cell_type": "markdown",
   "id": "21677295-23d9-44ed-8230-02266009ec63",
   "metadata": {},
   "source": [
    "##### 1. 🔤 Use lowercase letters with underscores (snake_case)\n",
    "- first_name = \"Raju\"\n",
    "- total_price = 199.99"
   ]
  },
  {
   "cell_type": "markdown",
   "id": "c7c659e1-5e8e-448b-891e-ce640a0ea9c4",
   "metadata": {},
   "source": [
    "##### 2. 🎯 Make names meaningful & descriptive"
   ]
  },
  {
   "cell_type": "code",
   "execution_count": 7,
   "id": "b427a4b4-dcf3-49dd-b063-4ad4afeb1efc",
   "metadata": {},
   "outputs": [],
   "source": [
    "# Bad:\n",
    "x = 5\n",
    "# Good:\n",
    "number_of_students = 5"
   ]
  },
  {
   "cell_type": "markdown",
   "id": "78ea9de5-6f2d-4807-8a68-4c2321c94e3b",
   "metadata": {},
   "source": [
    "##### 3. 🚫 Don’t use single-letter variable names (unless in loops)"
   ]
  },
  {
   "cell_type": "code",
   "execution_count": 6,
   "id": "5433d44a-f356-460f-b560-54d56a08aaab",
   "metadata": {},
   "outputs": [
    {
     "name": "stdout",
     "output_type": "stream",
     "text": [
      "0\n",
      "1\n",
      "2\n",
      "3\n",
      "4\n"
     ]
    }
   ],
   "source": [
    "for i in range(5):   # ✅ i is fine here\n",
    "    print(i)"
   ]
  },
  {
   "cell_type": "markdown",
   "id": "8113a08c-bb0a-47eb-a8cb-2eeedb3fbe03",
   "metadata": {},
   "source": [
    "##### 4. 🔒 Use underscore _ before a variable name to indicate “private” (common in classes)"
   ]
  },
  {
   "cell_type": "code",
   "execution_count": 8,
   "id": "fc8cd8d8-3935-46d1-a3dd-5239e7a1defd",
   "metadata": {},
   "outputs": [],
   "source": [
    "_private_value = 10"
   ]
  },
  {
   "cell_type": "code",
   "execution_count": null,
   "id": "9aaf32f2-4a86-4096-a2e8-9c079c3c0494",
   "metadata": {},
   "outputs": [],
   "source": []
  },
  {
   "cell_type": "markdown",
   "id": "3e665255-a7a0-491b-8863-719bb70155b0",
   "metadata": {},
   "source": [
    "#### 🔁 Special Cases"
   ]
  },
  {
   "cell_type": "markdown",
   "id": "0600556d-b208-4840-a083-68c14e9abf1d",
   "metadata": {},
   "source": [
    "| Naming Style                     | Used For                        | Example              |\n",
    "| -------------------------------- | ------------------------------- | -------------------- |\n",
    "| `snake_case`                     | ✅ Variables, functions          | `total_count = 10`   |\n",
    "| `UPPER_CASE`                     | ✅ Constants                     | `PI = 3.14`          |\n",
    "| `CamelCase`                      | ✅ Class names                   | `class StudentInfo:` |\n",
    "| `_single_leading_underscore`     | 🔒 Internal use (non-public)    | `_temp = 5`          |\n",
    "| `__double_leading__underscore__` | 🔧 System-defined/magic methods | `__init__()`         |\n"
   ]
  },
  {
   "cell_type": "markdown",
   "id": "505f2d7d-1d52-47d3-ad36-73e3d45966d6",
   "metadata": {},
   "source": [
    "#### 🚫 Common Mistakes\n",
    "- total 1 = 10        # ❌ No space or starting number\n",
    "- my-variable = 3     # ❌ Hyphens not allowed\n",
    "- def = 4             # ❌ 'def' is a Python keyword"
   ]
  },
  {
   "cell_type": "markdown",
   "id": "aba3cfc9-2b01-4150-b857-97f5ed0851be",
   "metadata": {},
   "source": [
    "#### Python Variable Naming Convention:\n",
    "\n",
    "✅ Valid:\n",
    "- Use lowercase and underscores (snake_case)\n",
    "- Start with a letter or underscore\n",
    "- Be descriptive\n",
    "\n",
    "❌ Invalid:\n",
    "- Don’t start with a digit\n",
    "- No special characters (except _)\n",
    "- Don’t use spaces\n",
    "- Don’t use Python keywords\n",
    "\n",
    "Examples:\n",
    "- first_name = \"Raju\"\n",
    "- total_amount = 100.50\n",
    "- MAX_USERS = 50         (constant)\n",
    "- class StudentDetails:  (class name in CamelCase)\n"
   ]
  },
  {
   "cell_type": "markdown",
   "id": "f38d5896-f0fc-4b2b-8b43-e18cc311beaa",
   "metadata": {},
   "source": [
    "### Final Note:\n",
    "- Variables are containers that store data in a Python program\n",
    "- Variables can store different types of data types such as string, integer, float, Boolean\n",
    "- Rules of naming variables correctly:\n",
    "- -\tYou can not use reserve words as variable names (e.g. def, True, etec.)\n",
    "- - Variable names must start with a letter or an underscore _\n",
    "- -\tIt can not contain spaces or special characters (@, #, $, %, etc.)\n",
    "- -\tUnderscore _ is an valid character and can be present at any place in a variable name"
   ]
  },
  {
   "cell_type": "code",
   "execution_count": null,
   "id": "62ea12a0-eb4e-497b-a495-c8a03372d83b",
   "metadata": {},
   "outputs": [],
   "source": []
  },
  {
   "cell_type": "code",
   "execution_count": null,
   "id": "6203d792-a44b-4751-96ad-9ae9f392f05f",
   "metadata": {},
   "outputs": [],
   "source": []
  },
  {
   "cell_type": "markdown",
   "id": "5e06de2c-9dca-4d27-90e2-26093a11b0fe",
   "metadata": {},
   "source": [
    "### 🧮 2. Numbers in Python\n",
    "- Python supports several types of numbers:"
   ]
  },
  {
   "cell_type": "markdown",
   "id": "4a113c41-a770-47f1-8a9a-5916cc6c0afe",
   "metadata": {},
   "source": [
    "| Type    | Example  |\n",
    "| ------- | -------- |\n",
    "| Integer | `10`     |\n",
    "| Float   | `3.14`   |\n",
    "| Complex | `3 + 5j` |\n"
   ]
  },
  {
   "cell_type": "markdown",
   "id": "68e411ce-9dd1-44a6-b140-639687d26d11",
   "metadata": {},
   "source": [
    "#### 📌 Example:"
   ]
  },
  {
   "cell_type": "code",
   "execution_count": 10,
   "id": "62712be9-eaef-4662-b2a9-d292b3175a33",
   "metadata": {},
   "outputs": [],
   "source": [
    "a = 10        # Integer\n",
    "b = 3.14      # Float\n",
    "c = 2 + 3j    # Complex"
   ]
  },
  {
   "cell_type": "code",
   "execution_count": 16,
   "id": "b8e03e02-92b9-4f1a-9369-3f5e322a8375",
   "metadata": {},
   "outputs": [
    {
     "name": "stdout",
     "output_type": "stream",
     "text": [
      "Addition: 7\n",
      "Substraction: 3\n",
      "Multiplication: 10\n",
      "Division: 2.5\n",
      "Floor Division: 2\n",
      "Modulus- Reminder: 1\n",
      "Power 25\n"
     ]
    }
   ],
   "source": [
    "# You can perform arithmetic operations:\n",
    "x = 5\n",
    "y = 2\n",
    "print(\"Addition:\", x + y)  # 7\n",
    "print(\"Substraction:\", x - y)  # 3\n",
    "print(\"Multiplication:\", x * y)  # 10\n",
    "print(\"Division:\", x / y)  # 2.5\n",
    "print(\"Floor Division:\", x // y) # 2 (floor division)\n",
    "print(\"Modulus- Reminder:\", x % y)  # 1 (modulus)\n",
    "print(\"Power\", x ** y) # 25 (power)\n"
   ]
  },
  {
   "cell_type": "markdown",
   "id": "61b52574-865b-43a0-84bd-fbe7db3fd066",
   "metadata": {},
   "source": [
    "#### Area of a Triangle"
   ]
  },
  {
   "cell_type": "code",
   "execution_count": 1,
   "id": "8d919e92-72c1-4f03-830c-57a0e20619b6",
   "metadata": {},
   "outputs": [
    {
     "data": {
      "text/plain": [
       "35.0"
      ]
     },
     "execution_count": 1,
     "metadata": {},
     "output_type": "execute_result"
    }
   ],
   "source": [
    "base = 10\n",
    "height = 7\n",
    "\n",
    "area = (base*height)/2\n",
    "area"
   ]
  },
  {
   "cell_type": "code",
   "execution_count": 2,
   "id": "e8267926-dd3d-426c-a8ca-d8589a91ca84",
   "metadata": {},
   "outputs": [
    {
     "data": {
      "text/plain": [
       "float"
      ]
     },
     "execution_count": 2,
     "metadata": {},
     "output_type": "execute_result"
    }
   ],
   "source": [
    "type(area)"
   ]
  },
  {
   "cell_type": "code",
   "execution_count": 3,
   "id": "915f4f40-bbcb-4dc0-81cb-6c55e0091570",
   "metadata": {},
   "outputs": [
    {
     "data": {
      "text/plain": [
       "2"
      ]
     },
     "execution_count": 3,
     "metadata": {},
     "output_type": "execute_result"
    }
   ],
   "source": [
    "round(2.3)"
   ]
  },
  {
   "cell_type": "code",
   "execution_count": 5,
   "id": "8fcbdfa4-6ca4-4b89-be99-5ec096609a24",
   "metadata": {},
   "outputs": [
    {
     "data": {
      "text/plain": [
       "2.37"
      ]
     },
     "execution_count": 5,
     "metadata": {},
     "output_type": "execute_result"
    }
   ],
   "source": [
    "round(2.3698,2)"
   ]
  },
  {
   "cell_type": "code",
   "execution_count": 6,
   "id": "4bc794b5-bace-4656-b074-75fcad1fbdad",
   "metadata": {},
   "outputs": [
    {
     "data": {
      "text/plain": [
       "2.4"
      ]
     },
     "execution_count": 6,
     "metadata": {},
     "output_type": "execute_result"
    }
   ],
   "source": [
    "round(2.3698,1)"
   ]
  },
  {
   "cell_type": "markdown",
   "id": "435e2a4e-9eed-414e-8e1e-87b1d474abba",
   "metadata": {},
   "source": [
    "#### Math functions"
   ]
  },
  {
   "cell_type": "code",
   "execution_count": 7,
   "id": "c96ce493-e3ec-4bfc-a617-6ae5d7ba8772",
   "metadata": {},
   "outputs": [
    {
     "data": {
      "text/plain": [
       "4.0"
      ]
     },
     "execution_count": 7,
     "metadata": {},
     "output_type": "execute_result"
    }
   ],
   "source": [
    "import math\n",
    "\n",
    "x=16\n",
    "math.sqrt(x)"
   ]
  },
  {
   "cell_type": "code",
   "execution_count": 8,
   "id": "871d3558-fce4-4030-bb6d-15c8c54bb16d",
   "metadata": {},
   "outputs": [
    {
     "data": {
      "text/plain": [
       "3"
      ]
     },
     "execution_count": 8,
     "metadata": {},
     "output_type": "execute_result"
    }
   ],
   "source": [
    "math.floor(3.7)"
   ]
  },
  {
   "cell_type": "code",
   "execution_count": 9,
   "id": "75055347-2ce0-4212-a54d-d5b690f43951",
   "metadata": {},
   "outputs": [
    {
     "data": {
      "text/plain": [
       "4"
      ]
     },
     "execution_count": 9,
     "metadata": {},
     "output_type": "execute_result"
    }
   ],
   "source": [
    "math.ceil(3.7)"
   ]
  },
  {
   "cell_type": "code",
   "execution_count": 10,
   "id": "26943d7a-c6ef-4178-9d5c-9f4c157afd97",
   "metadata": {},
   "outputs": [
    {
     "data": {
      "text/plain": [
       "3.141592653589793"
      ]
     },
     "execution_count": 10,
     "metadata": {},
     "output_type": "execute_result"
    }
   ],
   "source": [
    "math.pi"
   ]
  },
  {
   "cell_type": "code",
   "execution_count": 11,
   "id": "6a6b7df7-7b89-4506-9329-e38aa3394b08",
   "metadata": {
    "scrolled": true
   },
   "outputs": [
    {
     "data": {
      "text/plain": [
       "['__doc__',\n",
       " '__loader__',\n",
       " '__name__',\n",
       " '__package__',\n",
       " '__spec__',\n",
       " 'acos',\n",
       " 'acosh',\n",
       " 'asin',\n",
       " 'asinh',\n",
       " 'atan',\n",
       " 'atan2',\n",
       " 'atanh',\n",
       " 'ceil',\n",
       " 'comb',\n",
       " 'copysign',\n",
       " 'cos',\n",
       " 'cosh',\n",
       " 'degrees',\n",
       " 'dist',\n",
       " 'e',\n",
       " 'erf',\n",
       " 'erfc',\n",
       " 'exp',\n",
       " 'expm1',\n",
       " 'fabs',\n",
       " 'factorial',\n",
       " 'floor',\n",
       " 'fmod',\n",
       " 'frexp',\n",
       " 'fsum',\n",
       " 'gamma',\n",
       " 'gcd',\n",
       " 'hypot',\n",
       " 'inf',\n",
       " 'isclose',\n",
       " 'isfinite',\n",
       " 'isinf',\n",
       " 'isnan',\n",
       " 'isqrt',\n",
       " 'lcm',\n",
       " 'ldexp',\n",
       " 'lgamma',\n",
       " 'log',\n",
       " 'log10',\n",
       " 'log1p',\n",
       " 'log2',\n",
       " 'modf',\n",
       " 'nan',\n",
       " 'nextafter',\n",
       " 'perm',\n",
       " 'pi',\n",
       " 'pow',\n",
       " 'prod',\n",
       " 'radians',\n",
       " 'remainder',\n",
       " 'sin',\n",
       " 'sinh',\n",
       " 'sqrt',\n",
       " 'tan',\n",
       " 'tanh',\n",
       " 'tau',\n",
       " 'trunc',\n",
       " 'ulp']"
      ]
     },
     "execution_count": 11,
     "metadata": {},
     "output_type": "execute_result"
    }
   ],
   "source": [
    "dir(math)"
   ]
  },
  {
   "cell_type": "markdown",
   "id": "3a1ab198-f0d0-404b-bbb2-23719b626c33",
   "metadata": {},
   "source": [
    "#### Print the binary of a integer number"
   ]
  },
  {
   "cell_type": "code",
   "execution_count": 13,
   "id": "c399865f-f131-456e-98c2-a2b4b1b3747f",
   "metadata": {},
   "outputs": [
    {
     "data": {
      "text/plain": [
       "'1011'"
      ]
     },
     "execution_count": 13,
     "metadata": {},
     "output_type": "execute_result"
    }
   ],
   "source": [
    "format(11, 'b')"
   ]
  },
  {
   "cell_type": "code",
   "execution_count": null,
   "id": "1a44f0ab-4b8f-48e3-a7e4-b5a63ed2f6a6",
   "metadata": {},
   "outputs": [],
   "source": []
  }
 ],
 "metadata": {
  "kernelspec": {
   "display_name": "Python 3 (ipykernel)",
   "language": "python",
   "name": "python3"
  },
  "language_info": {
   "codemirror_mode": {
    "name": "ipython",
    "version": 3
   },
   "file_extension": ".py",
   "mimetype": "text/x-python",
   "name": "python",
   "nbconvert_exporter": "python",
   "pygments_lexer": "ipython3",
   "version": "3.10.11"
  }
 },
 "nbformat": 4,
 "nbformat_minor": 5
}
