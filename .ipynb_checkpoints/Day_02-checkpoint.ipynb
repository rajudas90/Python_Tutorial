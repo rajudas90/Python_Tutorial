{
 "cells": [
  {
   "cell_type": "markdown",
   "id": "60f496f7-588b-4dd2-9bf6-ac532e56f209",
   "metadata": {},
   "source": [
    "<h2 align=\"center\" style=\"color:blue\"> Python Course: Python Lists — Beginner Notes</h2>"
   ]
  },
  {
   "cell_type": "markdown",
   "id": "61ddea9f-e524-4fd6-b4fb-39b45b658567",
   "metadata": {},
   "source": [
    "#### What is a List?\n",
    "- A list is a collection of items in Python.\n",
    "- Lists are ordered, mutable (changeable), and can hold different data types.\n",
    "- Defined with square brackets [ ]."
   ]
  },
  {
   "cell_type": "code",
   "execution_count": 1,
   "id": "6e3f103f-b175-48d2-8097-2cc629ef0562",
   "metadata": {},
   "outputs": [],
   "source": [
    "#Example\n",
    "fruits = [\"apple\", \"banana\", \"cherry\"]\n",
    "numbers = [1, 2, 3, 4, 5]\n",
    "mixed = [1, \"hello\", 3.14, True]"
   ]
  },
  {
   "cell_type": "code",
   "execution_count": null,
   "id": "4fb5cfd8-e107-4973-b9fb-63107e9af71d",
   "metadata": {},
   "outputs": [],
   "source": []
  },
  {
   "cell_type": "markdown",
   "id": "75b1e30d-8632-49e2-8e88-3fc0495a3dfb",
   "metadata": {},
   "source": [
    "#### Properties of Lists\n",
    "\n",
    "- Ordered → Items keep their position unless you change them.\n",
    "- Mutable → You can add, remove, or update items.\n",
    "- Allow duplicates → Lists can contain the same item multiple times."
   ]
  },
  {
   "cell_type": "code",
   "execution_count": 2,
   "id": "6a43b043-8d2b-4ef2-8720-666cb53250fe",
   "metadata": {},
   "outputs": [
    {
     "name": "stdout",
     "output_type": "stream",
     "text": [
      "[10, 20, 20, 30]\n"
     ]
    }
   ],
   "source": [
    "example = [10, 20, 20, 30]\n",
    "print(example)  # [10, 20, 20, 30]"
   ]
  },
  {
   "cell_type": "code",
   "execution_count": null,
   "id": "e8cb23f9-ff0c-44d4-8664-9b044546d881",
   "metadata": {},
   "outputs": [],
   "source": []
  },
  {
   "cell_type": "markdown",
   "id": "18c021ab-e1a7-424a-95a4-1fe1c9c29a37",
   "metadata": {},
   "source": [
    "#### Indexing and Slicing\n",
    "\n",
    "- Just like strings, lists support indexing and slicing."
   ]
  },
  {
   "cell_type": "code",
   "execution_count": 3,
   "id": "56ce169a-8df0-4346-9afb-a703e25ff5e7",
   "metadata": {},
   "outputs": [
    {
     "name": "stdout",
     "output_type": "stream",
     "text": [
      "apple\n",
      "date\n",
      "['banana', 'cherry']\n"
     ]
    }
   ],
   "source": [
    "fruits = [\"apple\", \"banana\", \"cherry\", \"date\"]\n",
    "\n",
    "print(fruits[0])   # apple (first item)\n",
    "print(fruits[-1])  # date (last item)\n",
    "print(fruits[1:3]) # ['banana', 'cherry']\n"
   ]
  },
  {
   "cell_type": "code",
   "execution_count": null,
   "id": "f5268e98-5e3f-4664-a11a-28bae45ac7a2",
   "metadata": {},
   "outputs": [],
   "source": []
  },
  {
   "cell_type": "markdown",
   "id": "636247ea-41f6-4ee8-9e27-fb41496896dd",
   "metadata": {},
   "source": [
    "#### Adding Items\n",
    "\n",
    "- .append() → Adds item at the end\n",
    "- .insert() → Adds item at a specific position\n",
    "- .extend() → Adds multiple items"
   ]
  },
  {
   "cell_type": "code",
   "execution_count": 4,
   "id": "cafed436-5efe-4fd5-9d88-30ab6c350cca",
   "metadata": {},
   "outputs": [
    {
     "name": "stdout",
     "output_type": "stream",
     "text": [
      "['apple', 'banana', 'cherry']\n",
      "['apple', 'mango', 'banana', 'cherry']\n",
      "['apple', 'mango', 'banana', 'cherry', 'kiwi', 'orange']\n"
     ]
    }
   ],
   "source": [
    "fruits = [\"apple\", \"banana\"]\n",
    "fruits.append(\"cherry\")\n",
    "print(fruits)  # ['apple', 'banana', 'cherry']\n",
    "\n",
    "fruits.insert(1, \"mango\")\n",
    "print(fruits)  # ['apple', 'mango', 'banana', 'cherry']\n",
    "\n",
    "fruits.extend([\"kiwi\", \"orange\"])\n",
    "print(fruits)  # ['apple', 'mango', 'banana', 'cherry', 'kiwi', 'orange']"
   ]
  },
  {
   "cell_type": "code",
   "execution_count": null,
   "id": "6aea9033-baea-430b-b6ad-92074958cf0e",
   "metadata": {},
   "outputs": [],
   "source": []
  },
  {
   "cell_type": "markdown",
   "id": "c0c39d8c-f44f-4c5c-a7d1-0160a653df8b",
   "metadata": {},
   "source": [
    "#### Changing / Update List Items\n",
    "\n",
    "- Lists are mutable, so we can modify them."
   ]
  },
  {
   "cell_type": "code",
   "execution_count": 5,
   "id": "26bfcc08-54e5-425a-bb00-4278665773ef",
   "metadata": {},
   "outputs": [
    {
     "name": "stdout",
     "output_type": "stream",
     "text": [
      "['apple', 'mango', 'cherry']\n"
     ]
    }
   ],
   "source": [
    "fruits = [\"apple\", \"banana\", \"cherry\"]\n",
    "fruits[1] = \"mango\"\n",
    "print(fruits)  # ['apple', 'mango', 'cherry']"
   ]
  },
  {
   "cell_type": "code",
   "execution_count": null,
   "id": "6bee0a8f-89de-442f-9e65-634b7a670fc5",
   "metadata": {},
   "outputs": [],
   "source": []
  },
  {
   "cell_type": "markdown",
   "id": "50bf5f2f-4a1e-4262-a9cd-cae84dc3ed2b",
   "metadata": {},
   "source": [
    "#### Removing Items\n",
    "\n",
    "- .remove(value) → Removes the first match\n",
    "- .pop(index) → Removes item at index (default last)\n",
    "- .clear() → Removes all items"
   ]
  },
  {
   "cell_type": "code",
   "execution_count": 6,
   "id": "62477a11-3e3a-49b6-8c8d-082f09116fbf",
   "metadata": {},
   "outputs": [
    {
     "name": "stdout",
     "output_type": "stream",
     "text": [
      "['apple', 'cherry']\n",
      "['cherry']\n",
      "[]\n"
     ]
    }
   ],
   "source": [
    "fruits = [\"apple\", \"banana\", \"cherry\"]\n",
    "\n",
    "fruits.remove(\"banana\")\n",
    "print(fruits)  # ['apple', 'cherry']\n",
    "\n",
    "fruits.pop(0)\n",
    "print(fruits)  # ['cherry']\n",
    "\n",
    "fruits.clear()\n",
    "print(fruits)  # []"
   ]
  },
  {
   "cell_type": "code",
   "execution_count": null,
   "id": "06f1d185-bcf5-40d9-a55a-bbef8c628e16",
   "metadata": {},
   "outputs": [],
   "source": []
  },
  {
   "cell_type": "markdown",
   "id": "cf94cac4-b7d6-4de6-aaac-071bcd3ecf54",
   "metadata": {},
   "source": [
    "#### Looping Through Lists"
   ]
  },
  {
   "cell_type": "code",
   "execution_count": 7,
   "id": "b6d9c3f0-ecb8-449d-b719-99963a6af1dd",
   "metadata": {},
   "outputs": [
    {
     "name": "stdout",
     "output_type": "stream",
     "text": [
      "apple\n",
      "banana\n",
      "cherry\n"
     ]
    }
   ],
   "source": [
    "fruits = [\"apple\", \"banana\", \"cherry\"]\n",
    "\n",
    "for fruit in fruits:\n",
    "    print(fruit)"
   ]
  },
  {
   "cell_type": "code",
   "execution_count": null,
   "id": "eded5437-52e4-4f91-b5e7-f2ccea73710d",
   "metadata": {},
   "outputs": [],
   "source": []
  },
  {
   "cell_type": "markdown",
   "id": "a13a0411-99ba-40d3-9cab-eb7a51f02dbd",
   "metadata": {},
   "source": [
    "#### List Functions & Methods\n",
    "Some useful built-in functions:\n",
    "\n",
    "- len(list) → number of items\n",
    "- min(list) → smallest item\n",
    "- max(list) → largest item\n",
    "- sum(list) → sum of numeric items\n",
    "\n",
    "Some methods:\n",
    "\n",
    "- list.sort() → sort ascending\n",
    "- list.reverse() → reverse order\n",
    "- list.copy() → copy the list"
   ]
  },
  {
   "cell_type": "code",
   "execution_count": 8,
   "id": "72f84ed1-27c6-4b4f-86ae-e63f5d4bf2db",
   "metadata": {},
   "outputs": [
    {
     "name": "stdout",
     "output_type": "stream",
     "text": [
      "4\n",
      "1\n",
      "9\n",
      "17\n",
      "[1, 2, 5, 9]\n",
      "[9, 5, 2, 1]\n"
     ]
    }
   ],
   "source": [
    "numbers = [5, 2, 9, 1]\n",
    "\n",
    "print(len(numbers))   # 4\n",
    "print(min(numbers))   # 1\n",
    "print(max(numbers))   # 9\n",
    "print(sum(numbers))   # 17\n",
    "\n",
    "numbers.sort()\n",
    "print(numbers)        # [1, 2, 5, 9]\n",
    "\n",
    "numbers.reverse()\n",
    "print(numbers)        # [9, 5, 2, 1]"
   ]
  },
  {
   "cell_type": "code",
   "execution_count": null,
   "id": "48ce83fb-9e3f-4e3e-8f3f-98bc7fcb581b",
   "metadata": {},
   "outputs": [],
   "source": []
  },
  {
   "cell_type": "markdown",
   "id": "9d739c68-e67e-4277-b280-3cfa635e75bd",
   "metadata": {},
   "source": [
    "#### Nested Lists (List of Lists)\n",
    "Lists can contain other lists."
   ]
  },
  {
   "cell_type": "code",
   "execution_count": 15,
   "id": "558bb8e0-629c-40d7-8ee8-5e1aa5744fa3",
   "metadata": {},
   "outputs": [
    {
     "name": "stdout",
     "output_type": "stream",
     "text": [
      "[5, 6]\n",
      "5\n"
     ]
    }
   ],
   "source": [
    "matrix = [[1, 2], [3, 4], [5, 6]]\n",
    "print(matrix[2])      # [3, 4]\n",
    "print(matrix[2][0])   # 5"
   ]
  },
  {
   "cell_type": "code",
   "execution_count": null,
   "id": "7d99c261-6d4c-468a-b42b-2a0b879cba50",
   "metadata": {},
   "outputs": [],
   "source": []
  },
  {
   "cell_type": "markdown",
   "id": "d3db5fee-5b2d-408d-a451-fa279a16f00f",
   "metadata": {},
   "source": [
    "#### List Comprehension (Shortcuts)\n",
    "A Pythonic way to create lists."
   ]
  },
  {
   "cell_type": "code",
   "execution_count": 10,
   "id": "d6e318a3-0e05-4498-bb7f-f666096a6682",
   "metadata": {},
   "outputs": [
    {
     "name": "stdout",
     "output_type": "stream",
     "text": [
      "[0, 1, 4, 9, 16]\n"
     ]
    }
   ],
   "source": [
    "# Create a list of squares\n",
    "squares = [x**2 for x in range(5)]\n",
    "print(squares)  # [0, 1, 4, 9, 16]"
   ]
  },
  {
   "cell_type": "code",
   "execution_count": null,
   "id": "beb9395f-743f-49be-9fad-a2f8980206ba",
   "metadata": {},
   "outputs": [],
   "source": []
  },
  {
   "cell_type": "markdown",
   "id": "56c86037-4526-4e3e-afda-09100769fde3",
   "metadata": {},
   "source": [
    "#### Concatenate Lists"
   ]
  },
  {
   "cell_type": "code",
   "execution_count": 20,
   "id": "0e4c3675-a908-48a8-aa68-0e39848f5c20",
   "metadata": {},
   "outputs": [
    {
     "name": "stdout",
     "output_type": "stream",
     "text": [
      "['bread', 'banana', 'pasta', 'soap', 'shampoo']\n"
     ]
    }
   ],
   "source": [
    "food_items = [\"bread\", \"banana\", \"pasta\"]\n",
    "bathroom_items = [\"soap\", \"shampoo\"]\n",
    "\n",
    "items = food_items + bathroom_items\n",
    "print(items)"
   ]
  },
  {
   "cell_type": "code",
   "execution_count": 22,
   "id": "67aaaf99-ba2b-4774-a429-9bbb6f2e8624",
   "metadata": {
    "scrolled": true
   },
   "outputs": [
    {
     "data": {
      "text/plain": [
       "['__add__',\n",
       " '__class__',\n",
       " '__class_getitem__',\n",
       " '__contains__',\n",
       " '__delattr__',\n",
       " '__delitem__',\n",
       " '__dir__',\n",
       " '__doc__',\n",
       " '__eq__',\n",
       " '__format__',\n",
       " '__ge__',\n",
       " '__getattribute__',\n",
       " '__getitem__',\n",
       " '__gt__',\n",
       " '__hash__',\n",
       " '__iadd__',\n",
       " '__imul__',\n",
       " '__init__',\n",
       " '__init_subclass__',\n",
       " '__iter__',\n",
       " '__le__',\n",
       " '__len__',\n",
       " '__lt__',\n",
       " '__mul__',\n",
       " '__ne__',\n",
       " '__new__',\n",
       " '__reduce__',\n",
       " '__reduce_ex__',\n",
       " '__repr__',\n",
       " '__reversed__',\n",
       " '__rmul__',\n",
       " '__setattr__',\n",
       " '__setitem__',\n",
       " '__sizeof__',\n",
       " '__str__',\n",
       " '__subclasshook__',\n",
       " 'append',\n",
       " 'clear',\n",
       " 'copy',\n",
       " 'count',\n",
       " 'extend',\n",
       " 'index',\n",
       " 'insert',\n",
       " 'pop',\n",
       " 'remove',\n",
       " 'reverse',\n",
       " 'sort']"
      ]
     },
     "execution_count": 22,
     "metadata": {},
     "output_type": "execute_result"
    }
   ],
   "source": [
    "dir(items)"
   ]
  }
 ],
 "metadata": {
  "kernelspec": {
   "display_name": "Python 3 (ipykernel)",
   "language": "python",
   "name": "python3"
  },
  "language_info": {
   "codemirror_mode": {
    "name": "ipython",
    "version": 3
   },
   "file_extension": ".py",
   "mimetype": "text/x-python",
   "name": "python",
   "nbconvert_exporter": "python",
   "pygments_lexer": "ipython3",
   "version": "3.10.11"
  }
 },
 "nbformat": 4,
 "nbformat_minor": 5
}
