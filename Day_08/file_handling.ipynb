{
 "cells": [
  {
   "cell_type": "markdown",
   "id": "e8738b25-7096-4ce2-b1fd-aad8660eda07",
   "metadata": {},
   "source": [
    "<h2 align=\"center\" style=\"color:blue\"> File Handling in Python </h2>"
   ]
  },
  {
   "cell_type": "markdown",
   "id": "00f44282-6a33-40ae-8721-2b37d0635b25",
   "metadata": {},
   "source": [
    "### File handling is used to create, read, write, update, and delete files using Python."
   ]
  },
  {
   "cell_type": "markdown",
   "id": "c4b4e551-f34c-40ca-b4e9-e83f5310d298",
   "metadata": {},
   "source": [
    "### 1. Opening a File. We use the built-in open() function:"
   ]
  },
  {
   "cell_type": "code",
   "execution_count": 3,
   "id": "9615f706-e1a8-4f6a-8b4c-4462ed5adb6e",
   "metadata": {},
   "outputs": [
    {
     "name": "stdout",
     "output_type": "stream",
     "text": [
      "Teacher: Why are you late, raghu?\n",
      "\n",
      "Raghu: Because of the sign\n",
      "\n",
      "Teacher: What sign?\n",
      "\n",
      "Raghu: The one that says \"School Ahead, Go slow\"\n"
     ]
    }
   ],
   "source": [
    "f=open(\"funny.txt\",\"r\")\n",
    "for line in f:\n",
    "    print(line)\n",
    "f.close()     # using close dealocate the resources that it allocated when open the file"
   ]
  },
  {
   "cell_type": "code",
   "execution_count": 4,
   "id": "886b8c18-b14c-4163-9815-cf9e8f9667ed",
   "metadata": {},
   "outputs": [
    {
     "name": "stdout",
     "output_type": "stream",
     "text": [
      "Teacher: Why are you late, raghu?\n",
      "\n",
      "Raghu: Because of the sign\n",
      "\n",
      "Teacher: What sign?\n",
      "\n",
      "Raghu: The one that says \"School Ahead, Go slow\"\n"
     ]
    }
   ],
   "source": [
    "# without close we can write the code\n",
    "with open(\"funny.txt\", \"r\") as f:\n",
    "    for line in f:\n",
    "        print(line)"
   ]
  },
  {
   "cell_type": "code",
   "execution_count": 6,
   "id": "34a78fd1-ff11-4a61-9a59-134b8e6b1f9f",
   "metadata": {},
   "outputs": [
    {
     "name": "stdout",
     "output_type": "stream",
     "text": [
      "['Teacher: Why are you late, raghu?\\n', 'Raghu: Because of the sign\\n', 'Teacher: What sign?\\n', 'Raghu: The one that says \"School Ahead, Go slow\"']\n"
     ]
    }
   ],
   "source": [
    "# read the lines in one single lists\n",
    "with open(\"funny.txt\", \"r\") as f:\n",
    "    lines = f.readlines()\n",
    "    print(lines)"
   ]
  },
  {
   "cell_type": "markdown",
   "id": "de5acfe1-accb-406f-803a-e38699772a11",
   "metadata": {},
   "source": [
    "### 2. Creat a file"
   ]
  },
  {
   "cell_type": "code",
   "execution_count": 8,
   "id": "de812599-8fc6-4de4-a5d2-76c637b7935f",
   "metadata": {},
   "outputs": [],
   "source": [
    "with open(\"love.txt\", \"w\") as f:\n",
    "    f.write(\"I love Python\\n\")\n",
    "    f.write(\"I love Meditation\")"
   ]
  },
  {
   "cell_type": "code",
   "execution_count": 1,
   "id": "588bfb67-b79d-48aa-a52e-6b8586f4f86f",
   "metadata": {},
   "outputs": [],
   "source": [
    "with open(\"love.txt\", \"w\") as f:\n",
    "    f.writelines([\n",
    "        \"I love C++\\n\",\n",
    "        \"I love scala\"\n",
    "    ])"
   ]
  },
  {
   "cell_type": "markdown",
   "id": "fc773819-9004-467d-a310-1e19c72dc708",
   "metadata": {},
   "source": [
    "### Data analysis with scores.csv file"
   ]
  },
  {
   "cell_type": "code",
   "execution_count": 5,
   "id": "441e76f9-2b2e-4073-92ed-6ea678016528",
   "metadata": {},
   "outputs": [
    {
     "name": "stdout",
     "output_type": "stream",
     "text": [
      "rohit,match#1,9\n",
      "\n",
      "shakib,match#2,56\n",
      "\n",
      "babar,match#3,56\n",
      "\n",
      "rohit,match#4,120\n",
      "\n",
      "rohit,match#5,105\n",
      "\n",
      "shakib,match#6,78\n",
      "\n",
      "rohit,match#7,140\n",
      "\n",
      "babar,match#8,45\n",
      "\n",
      "rohit,match#9,130\n",
      "\n",
      "shakib,match#10,102\n",
      "\n",
      "babar,match#11,120\n",
      "\n",
      "babar,match#12,5\n",
      "\n",
      "shakib,match#13,72\n",
      "\n",
      "babar,match#14,67\n",
      "\n"
     ]
    }
   ],
   "source": [
    "with open(\"scores.csv\", \"r\") as f:\n",
    "    for line in f:\n",
    "        print(line)"
   ]
  },
  {
   "cell_type": "code",
   "execution_count": 15,
   "id": "4662c413-93a9-4e78-b864-6bfcb5d4602b",
   "metadata": {},
   "outputs": [
    {
     "name": "stdout",
     "output_type": "stream",
     "text": [
      "rohit match#1 9\n",
      "\n",
      "shakib match#2 56\n",
      "\n",
      "babar match#3 56\n",
      "\n",
      "rohit match#4 120\n",
      "\n",
      "rohit match#5 105\n",
      "\n",
      "shakib match#6 78\n",
      "\n",
      "rohit match#7 140\n",
      "\n",
      "babar match#8 45\n",
      "\n",
      "rohit match#9 130\n",
      "\n",
      "shakib match#10 102\n",
      "\n",
      "babar match#11 120\n",
      "\n",
      "babar match#12 5\n",
      "\n",
      "shakib match#13 72\n",
      "\n",
      "babar match#14 67\n",
      "\n"
     ]
    }
   ],
   "source": [
    "with open(\"scores.csv\", \"r\") as f:\n",
    "    for line in f:\n",
    "        player, match_id, score = line.split(\",\")  # Here three types of field are player, match_id & score separated by ,. line.split do the separation.\n",
    "        print(player, match_id, score)"
   ]
  },
  {
   "cell_type": "code",
   "execution_count": 12,
   "id": "d28a9106-b0cc-4609-a416-c892990296d9",
   "metadata": {},
   "outputs": [
    {
     "data": {
      "text/plain": [
       "{'rohit': [9, 120, 105, 140, 130],\n",
       " 'shakib': [56, 78, 102, 72],\n",
       " 'babar': [56, 45, 120, 5, 67]}"
      ]
     },
     "execution_count": 12,
     "metadata": {},
     "output_type": "execute_result"
    }
   ],
   "source": [
    "player_scores = {}   # I need to put the player scores in dictionary so I need to creat a empty dictionary \n",
    "\n",
    "with open(\"scores.csv\", \"r\") as f:\n",
    "    for line in f:\n",
    "        player, match_id, score = line.split(\",\")  # _ is used to ignore any filed value, here match_id is not needed\n",
    "        score = int(score.strip())   #.strip is used to remove \\n\n",
    "        if player in player_scores:\n",
    "            player_scores[player].append(score)\n",
    "        else:\n",
    "            player_scores[player] = [score]\n",
    "player_scores"
   ]
  },
  {
   "cell_type": "code",
   "execution_count": 14,
   "id": "f568478e-9e33-4053-a63c-82114c31fe9e",
   "metadata": {},
   "outputs": [
    {
     "name": "stdout",
     "output_type": "stream",
     "text": [
      "rohit ==> Min:9, Max:140, Avg:100.8\n",
      "shakib ==> Min:56, Max:102, Avg:77.0\n",
      "babar ==> Min:5, Max:120, Avg:58.6\n"
     ]
    }
   ],
   "source": [
    "for player, scores_list in player_scores.items():\n",
    "    min_score = min(scores_list)\n",
    "    max_score = max(scores_list)\n",
    "    avg_score = sum(scores_list)/len(scores_list)\n",
    "    print(f\"{player} ==> Min:{min_score}, Max:{max_score}, Avg:{avg_score}\")"
   ]
  },
  {
   "cell_type": "code",
   "execution_count": null,
   "id": "06896a55-e5d8-426e-ab4c-d75f93a69dad",
   "metadata": {},
   "outputs": [],
   "source": []
  },
  {
   "cell_type": "markdown",
   "id": "a66d54f7-2137-4ead-a39e-f0ddcb99fdcb",
   "metadata": {},
   "source": [
    "### Delete a file"
   ]
  },
  {
   "cell_type": "code",
   "execution_count": 23,
   "id": "76879745-4245-4e5d-919b-3f5543f48684",
   "metadata": {},
   "outputs": [],
   "source": [
    "with open(\"dummy.txt\", \"w\") as f:\n",
    "    f.write(\"whatever\")"
   ]
  },
  {
   "cell_type": "code",
   "execution_count": 25,
   "id": "2207ef75-fc12-43aa-8b79-f71d1fb22863",
   "metadata": {},
   "outputs": [
    {
     "name": "stdout",
     "output_type": "stream",
     "text": [
      "files does not exist\n"
     ]
    }
   ],
   "source": [
    "import os\n",
    "if os.path.exists(\"dummy.txt\"):        # to check the file exists or not\n",
    "    os.remove(\"dummy.txt\")\n",
    "else:\n",
    "    print(\"files does not exist\")"
   ]
  },
  {
   "cell_type": "code",
   "execution_count": null,
   "id": "89cf428d-53fa-4e01-bbb0-8a45bce53af4",
   "metadata": {},
   "outputs": [],
   "source": []
  },
  {
   "cell_type": "markdown",
   "id": "373c44b0-3de9-470b-8003-392146d44e2f",
   "metadata": {},
   "source": [
    "### Summary\n",
    "1. The key function for working with files in Python is the open() function. The open() function takes two parameters; filename, and mode.\n",
    "2. Here are four different methods(modes) for opening a file:\n",
    "- \"r\" - Read - Default value. Opens a file for reading, error if the file does not exist.\n",
    "- \"a\" - Append - Opens a file fo appending, creates the file if it is does not exist\n",
    "- \"w\" - Write - Opens a file for writing, creats the file if it does not exist\n",
    "- \"x\" - Create - Creates the specified fle, returns and error if the file exist\n",
    "3. It is good practice to use the with keyword when dealing with file objects. The advantage is that the file is properly closed after its suite finishes, eveb if an exception is raised at some point."
   ]
  },
  {
   "cell_type": "code",
   "execution_count": null,
   "id": "8288b053-cd81-4225-9b76-73d5e1a4b3c1",
   "metadata": {},
   "outputs": [],
   "source": []
  }
 ],
 "metadata": {
  "kernelspec": {
   "display_name": "Python 3 (ipykernel)",
   "language": "python",
   "name": "python3"
  },
  "language_info": {
   "codemirror_mode": {
    "name": "ipython",
    "version": 3
   },
   "file_extension": ".py",
   "mimetype": "text/x-python",
   "name": "python",
   "nbconvert_exporter": "python",
   "pygments_lexer": "ipython3",
   "version": "3.10.11"
  }
 },
 "nbformat": 4,
 "nbformat_minor": 5
}
