{
 "cells": [
  {
   "cell_type": "markdown",
   "id": "e8738b25-7096-4ce2-b1fd-aad8660eda07",
   "metadata": {},
   "source": [
    "<h2 align=\"center\" style=\"color:blue\"> File Handling in Python </h2>"
   ]
  },
  {
   "cell_type": "markdown",
   "id": "00f44282-6a33-40ae-8721-2b37d0635b25",
   "metadata": {},
   "source": [
    "### File handling is used to create, read, write, update, and delete files using Python."
   ]
  },
  {
   "cell_type": "markdown",
   "id": "c4b4e551-f34c-40ca-b4e9-e83f5310d298",
   "metadata": {},
   "source": [
    "### 1. Opening a File. We use the built-in open() function:"
   ]
  },
  {
   "cell_type": "code",
   "execution_count": 3,
   "id": "9615f706-e1a8-4f6a-8b4c-4462ed5adb6e",
   "metadata": {},
   "outputs": [
    {
     "name": "stdout",
     "output_type": "stream",
     "text": [
      "Teacher: Why are you late, raghu?\n",
      "\n",
      "Raghu: Because of the sign\n",
      "\n",
      "Teacher: What sign?\n",
      "\n",
      "Raghu: The one that says \"School Ahead, Go slow\"\n"
     ]
    }
   ],
   "source": [
    "f=open(\"funny.txt\",\"r\")\n",
    "for line in f:\n",
    "    print(line)\n",
    "f.close()     # using close dealocate the resources that it allocated when open the file"
   ]
  },
  {
   "cell_type": "code",
   "execution_count": 4,
   "id": "886b8c18-b14c-4163-9815-cf9e8f9667ed",
   "metadata": {},
   "outputs": [
    {
     "name": "stdout",
     "output_type": "stream",
     "text": [
      "Teacher: Why are you late, raghu?\n",
      "\n",
      "Raghu: Because of the sign\n",
      "\n",
      "Teacher: What sign?\n",
      "\n",
      "Raghu: The one that says \"School Ahead, Go slow\"\n"
     ]
    }
   ],
   "source": [
    "# without close we can write the code\n",
    "with open(\"funny.txt\", \"r\") as f:\n",
    "    for line in f:\n",
    "        print(line)"
   ]
  },
  {
   "cell_type": "code",
   "execution_count": 6,
   "id": "34a78fd1-ff11-4a61-9a59-134b8e6b1f9f",
   "metadata": {},
   "outputs": [
    {
     "name": "stdout",
     "output_type": "stream",
     "text": [
      "['Teacher: Why are you late, raghu?\\n', 'Raghu: Because of the sign\\n', 'Teacher: What sign?\\n', 'Raghu: The one that says \"School Ahead, Go slow\"']\n"
     ]
    }
   ],
   "source": [
    "# read the lines in one single lists\n",
    "with open(\"funny.txt\", \"r\") as f:\n",
    "    lines = f.readlines()\n",
    "    print(lines)"
   ]
  },
  {
   "cell_type": "markdown",
   "id": "de5acfe1-accb-406f-803a-e38699772a11",
   "metadata": {},
   "source": [
    "### 2. Creat a file"
   ]
  },
  {
   "cell_type": "code",
   "execution_count": 8,
   "id": "de812599-8fc6-4de4-a5d2-76c637b7935f",
   "metadata": {},
   "outputs": [],
   "source": [
    "with open(\"love.txt\", \"w\") as f:\n",
    "    f.write(\"I love Python\\n\")\n",
    "    f.write(\"I love Meditation\")"
   ]
  }
 ],
 "metadata": {
  "kernelspec": {
   "display_name": "Python 3 (ipykernel)",
   "language": "python",
   "name": "python3"
  },
  "language_info": {
   "codemirror_mode": {
    "name": "ipython",
    "version": 3
   },
   "file_extension": ".py",
   "mimetype": "text/x-python",
   "name": "python",
   "nbconvert_exporter": "python",
   "pygments_lexer": "ipython3",
   "version": "3.10.11"
  }
 },
 "nbformat": 4,
 "nbformat_minor": 5
}
