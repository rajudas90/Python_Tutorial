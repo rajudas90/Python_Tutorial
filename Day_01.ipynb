{
 "cells": [
  {
   "cell_type": "markdown",
   "id": "bf957881-5a2a-4017-aed0-3db0cc35781b",
   "metadata": {},
   "source": [
    "## 🧠 1. What is a Variable? - \n",
    "- A variable is like a container for storing data.\n",
    "- You can assign any value to a variable using the = operator."
   ]
  },
  {
   "cell_type": "markdown",
   "id": "2b8759db-5d26-4e7a-89de-a22484fcde82",
   "metadata": {},
   "source": [
    "#### ✅ Syntax:"
   ]
  },
  {
   "cell_type": "code",
   "execution_count": 3,
   "id": "03344f0a-c284-468b-afba-46b01e169527",
   "metadata": {},
   "outputs": [
    {
     "name": "stdout",
     "output_type": "stream",
     "text": [
      "Raju\n",
      "25\n",
      "5.9\n"
     ]
    }
   ],
   "source": [
    "name = \"Raju\"\n",
    "age = 25\n",
    "height = 5.9\n",
    "print(name)\n",
    "print(age)\n",
    "print(height)"
   ]
  },
  {
   "cell_type": "code",
   "execution_count": 15,
   "id": "5ea9986d-2292-4709-b60e-25f90f9cccf4",
   "metadata": {},
   "outputs": [
    {
     "data": {
      "text/plain": [
       "str"
      ]
     },
     "execution_count": 15,
     "metadata": {},
     "output_type": "execute_result"
    }
   ],
   "source": [
    "type(name) # type of the variable name is String"
   ]
  },
  {
   "cell_type": "code",
   "execution_count": 16,
   "id": "001b27e0-6b93-462f-8323-60ac70caefb4",
   "metadata": {},
   "outputs": [
    {
     "data": {
      "text/plain": [
       "int"
      ]
     },
     "execution_count": 16,
     "metadata": {},
     "output_type": "execute_result"
    }
   ],
   "source": [
    "type(age) # type of the variable name is Integer"
   ]
  },
  {
   "cell_type": "code",
   "execution_count": 17,
   "id": "92872725-8c29-4000-9d40-2acdbea649c7",
   "metadata": {},
   "outputs": [
    {
     "data": {
      "text/plain": [
       "float"
      ]
     },
     "execution_count": 17,
     "metadata": {},
     "output_type": "execute_result"
    }
   ],
   "source": [
    "type(height) # type of the variable name is Float"
   ]
  },
  {
   "cell_type": "markdown",
   "id": "0d912907-a38e-43ad-a6fb-7d869ac1f7e8",
   "metadata": {},
   "source": [
    "##### Details of the variable used above\n",
    "- name is a variable that stores a string.\n",
    "- age is a variable that stores an integer.\n",
    "- height is a veriable that stores a float (decimal number)."
   ]
  },
  {
   "cell_type": "code",
   "execution_count": 18,
   "id": "40a8f681-c16d-4d75-bb7c-baba3e4c8f86",
   "metadata": {},
   "outputs": [
    {
     "data": {
      "text/plain": [
       "220.5"
      ]
     },
     "execution_count": 18,
     "metadata": {},
     "output_type": "execute_result"
    }
   ],
   "source": [
    "pizza = 100\n",
    "samosa = 20.5\n",
    "ice_cream = 100\n",
    "total = pizza+samosa+ice_cream\n",
    "total"
   ]
  },
  {
   "cell_type": "code",
   "execution_count": 19,
   "id": "0f459a4d-181b-46dd-8806-90012580f39a",
   "metadata": {},
   "outputs": [
    {
     "data": {
      "text/plain": [
       "float"
      ]
     },
     "execution_count": 19,
     "metadata": {},
     "output_type": "execute_result"
    }
   ],
   "source": [
    "type(total)"
   ]
  },
  {
   "cell_type": "code",
   "execution_count": null,
   "id": "35fb4d7e-c6cc-463e-8335-63134c8b4f64",
   "metadata": {},
   "outputs": [],
   "source": []
  },
  {
   "cell_type": "markdown",
   "id": "7b778dd7-6aa3-40b4-9613-9593624550c1",
   "metadata": {},
   "source": [
    "### A. Boolean Values in Python"
   ]
  },
  {
   "cell_type": "markdown",
   "id": "4820a1ef-1887-4ca0-8ba1-e7424ffc2227",
   "metadata": {},
   "source": [
    "##### Boolean represents one of two values:\n",
    "- True\n",
    "- False\n",
    "- These are used for decision-making (like conditions, logic, etc.)"
   ]
  },
  {
   "cell_type": "code",
   "execution_count": 20,
   "id": "6d4f6c15-7916-4276-97ae-940e2618216d",
   "metadata": {},
   "outputs": [],
   "source": [
    "is_logged_in = True\n",
    "has_access = False\n",
    "# Notice that True and False both start with a capital letter — it’s important!"
   ]
  },
  {
   "cell_type": "code",
   "execution_count": 21,
   "id": "2e3042d4-a5a3-44cc-9c60-029c1954ea7a",
   "metadata": {},
   "outputs": [
    {
     "name": "stdout",
     "output_type": "stream",
     "text": [
      "True\n"
     ]
    }
   ],
   "source": [
    "age = 20\n",
    "is_adult = age >= 18   # True\n",
    "print(is_adult)        # Output: True"
   ]
  },
  {
   "cell_type": "code",
   "execution_count": 22,
   "id": "828b0f02-9636-44b7-a339-5fc09bd81334",
   "metadata": {},
   "outputs": [
    {
     "name": "stdout",
     "output_type": "stream",
     "text": [
      "<class 'bool'>\n"
     ]
    }
   ],
   "source": [
    "print(type(is_adult))  # <class 'bool'>"
   ]
  },
  {
   "cell_type": "markdown",
   "id": "a935c009-9b0d-49df-bf3f-79bf7141af04",
   "metadata": {},
   "source": [
    "##### Boolean Operators:\n",
    "| Operator | Meaning      | Example          | Result  |\n",
    "| -------- | ------------ | ---------------- | ------- |\n",
    "| `==`     | Equal to     | `5 == 5`         | `True`  |\n",
    "| `!=`     | Not equal to | `5 != 3`         | `True`  |\n",
    "| `>`      | Greater than | `10 > 3`         | `True`  |\n",
    "| `<`      | Less than    | `2 < 4`          | `True`  |\n",
    "| `and`    | Logical AND  | `True and False` | `False` |\n",
    "| `or`     | Logical OR   | `True or False`  | `True`  |\n",
    "| `not`    | Logical NOT  | `not True`       | `False` |\n"
   ]
  },
  {
   "cell_type": "code",
   "execution_count": null,
   "id": "b05130af-4e75-43b6-bf5d-622da3a5c877",
   "metadata": {},
   "outputs": [],
   "source": []
  },
  {
   "cell_type": "markdown",
   "id": "06d21d01-2d39-45d9-a4e9-3bb85b3d706d",
   "metadata": {},
   "source": [
    "### B. ID of a Variable in Python"
   ]
  },
  {
   "cell_type": "markdown",
   "id": "6d927a08-d544-4a3e-aab9-e640f2028647",
   "metadata": {},
   "source": [
    "##### What is id()?\n",
    "- Every object in Python has a unique ID — it’s like a memory address.\n",
    "- You can view it using the built-in id() function."
   ]
  },
  {
   "cell_type": "code",
   "execution_count": 23,
   "id": "32d687b5-a875-4578-af87-9ae599118542",
   "metadata": {},
   "outputs": [
    {
     "name": "stdout",
     "output_type": "stream",
     "text": [
      "2314600382992\n"
     ]
    }
   ],
   "source": [
    "x = 10\n",
    "print(id(x))  # prints the memory ID of variable x"
   ]
  },
  {
   "cell_type": "markdown",
   "id": "ff086f97-0239-4f24-9e85-b441c41b88d0",
   "metadata": {},
   "source": [
    "##### Why is this useful?\n",
    "- To check whether two variables point to the same object in memory."
   ]
  },
  {
   "cell_type": "code",
   "execution_count": 26,
   "id": "d0795ea1-7a47-4716-9e66-c6aa005d278d",
   "metadata": {},
   "outputs": [
    {
     "name": "stdout",
     "output_type": "stream",
     "text": [
      "2314600382832\n",
      "2314600382832\n",
      "2314677338240\n",
      "2314677616832\n"
     ]
    }
   ],
   "source": [
    "a = 5\n",
    "b = 5\n",
    "print(id(a))       # e.g., 140732946552784\n",
    "print(id(b))       # same as id(a) — small integers are reused\n",
    "\n",
    "c = [1, 2, 3]\n",
    "d = [1, 2, 3]\n",
    "print(id(c))       # Different ID than d\n",
    "print(id(d))\n",
    "\n",
    "#Even though c and d have the same values, they are stored in different locations (because they’re separate lists)."
   ]
  },
  {
   "cell_type": "code",
   "execution_count": 1,
   "id": "fa42d32e-88e3-4a47-a3b4-d041ddc1fea2",
   "metadata": {},
   "outputs": [
    {
     "name": "stdout",
     "output_type": "stream",
     "text": [
      "Is adult? True\n",
      "<class 'bool'>\n"
     ]
    }
   ],
   "source": [
    "# Boolean example\n",
    "age = 20\n",
    "is_adult = age >= 18\n",
    "print(\"Is adult?\", is_adult)\n",
    "print(type(is_adult))"
   ]
  },
  {
   "cell_type": "code",
   "execution_count": 2,
   "id": "1f413c93-db6f-4540-9226-5bdf9e30867a",
   "metadata": {},
   "outputs": [
    {
     "name": "stdout",
     "output_type": "stream",
     "text": [
      "ID of x: 1952133614928\n",
      "ID of y: 1952133614928\n",
      "ID of list1: 1952210921984\n",
      "ID of list2: 1952210920768\n"
     ]
    }
   ],
   "source": [
    "# id() example\n",
    "x = 100\n",
    "y = 100\n",
    "print(\"ID of x:\", id(x))\n",
    "print(\"ID of y:\", id(y))\n",
    "\n",
    "list1 = [1, 2]\n",
    "list2 = [1, 2]\n",
    "print(\"ID of list1:\", id(list1))\n",
    "print(\"ID of list2:\", id(list2))"
   ]
  },
  {
   "cell_type": "markdown",
   "id": "51d32c10-c1ad-441b-b657-4bec571a7b13",
   "metadata": {},
   "source": [
    "##### Boolean Values\n",
    "- Used to represent True/False.\n",
    "- Examples: True, False\n",
    "- Often used in logic/conditions.\n",
    "- Boolean expressions use: ==, !=, >, <, and, or, not\n",
    "\n",
    "##### id() Function\n",
    "- Shows the unique identity of an object.\n",
    "- Syntax: id(variable)\n",
    "- Useful for checking if two variables refer to the same memory object.\n"
   ]
  },
  {
   "cell_type": "code",
   "execution_count": null,
   "id": "1f76bda0-7959-4b1b-bebb-8368e0dc8a6b",
   "metadata": {},
   "outputs": [],
   "source": []
  },
  {
   "cell_type": "markdown",
   "id": "20618263-cf1e-4fa3-9424-9b30e2d264e7",
   "metadata": {},
   "source": [
    "### C. What is a Naming Convention?\n",
    "- A naming convention is a set of rules or guidelines for how you name variables, functions, classes, etc.\n",
    "- Python follows PEP 8 — the official style guide for Python code."
   ]
  },
  {
   "cell_type": "markdown",
   "id": "4edf88b5-b3ce-4f23-aef8-8cf2cb41a3d5",
   "metadata": {},
   "source": [
    "#### ✅ Python Variable Naming Rules (Must Follow)"
   ]
  },
  {
   "cell_type": "markdown",
   "id": "bec2fe32-6b7a-4683-ac9a-ce52ac92669a",
   "metadata": {},
   "source": [
    "##### 1. ✅ Variable names can contain:\n",
    "- Letters (a-z, A-Z)\n",
    "- Digits (0-9)\n",
    "- Underscore (_)"
   ]
  },
  {
   "cell_type": "markdown",
   "id": "5bdb698f-877f-47ae-bfb2-3cc8e8d76631",
   "metadata": {},
   "source": [
    "##### 2. ❌ Variable names cannot start with a digit\n",
    "- 1name = \"Raju\"    # ❌ Invalid\n",
    "- name1 = \"Raju\"    # ✅ Valid"
   ]
  },
  {
   "cell_type": "markdown",
   "id": "4bf86eef-3217-4268-977f-ae67f343ee49",
   "metadata": {},
   "source": [
    "##### 3. ❌ No spaces allowed\n",
    "- Use underscore _ instead.\n",
    "- user name = \"Raju\"    # ❌ Invalid\n",
    "- user_name = \"Raju\"    # ✅ Valid"
   ]
  },
  {
   "cell_type": "markdown",
   "id": "4e19c831-da4a-43de-802f-579ac84fc6ce",
   "metadata": {},
   "source": [
    "##### 4. ❌ Don't use Python keywords as variable names\n",
    "- def = 5        # ❌ Invalid, \"def\" is a reserved keyword\n",
    "- True = 100     # ❌ Invalid, \"def\" is a reserved keyword"
   ]
  },
  {
   "cell_type": "markdown",
   "id": "5db155c7-3316-4cfb-91ed-cfafa12d4ff0",
   "metadata": {},
   "source": [
    "##### 5. ✅ Use this to check all Python keywords:"
   ]
  },
  {
   "cell_type": "code",
   "execution_count": 4,
   "id": "001dbdee-04eb-44cb-aec2-d9e8b186f404",
   "metadata": {},
   "outputs": [
    {
     "name": "stdout",
     "output_type": "stream",
     "text": [
      "['False', 'None', 'True', 'and', 'as', 'assert', 'async', 'await', 'break', 'class', 'continue', 'def', 'del', 'elif', 'else', 'except', 'finally', 'for', 'from', 'global', 'if', 'import', 'in', 'is', 'lambda', 'nonlocal', 'not', 'or', 'pass', 'raise', 'return', 'try', 'while', 'with', 'yield']\n"
     ]
    }
   ],
   "source": [
    "import keyword\n",
    "print(keyword.kwlist)"
   ]
  },
  {
   "cell_type": "code",
   "execution_count": null,
   "id": "032e11bf-fb12-405e-a467-3fc163edc76c",
   "metadata": {},
   "outputs": [],
   "source": []
  },
  {
   "cell_type": "markdown",
   "id": "38e40719-0ecd-4d02-9e61-6bdd73c048b0",
   "metadata": {},
   "source": [
    "#### ✅ Best Practices (Recommended)"
   ]
  },
  {
   "cell_type": "markdown",
   "id": "21677295-23d9-44ed-8230-02266009ec63",
   "metadata": {},
   "source": [
    "##### 1. 🔤 Use lowercase letters with underscores (snake_case)\n",
    "- first_name = \"Raju\"\n",
    "- total_price = 199.99"
   ]
  },
  {
   "cell_type": "markdown",
   "id": "c7c659e1-5e8e-448b-891e-ce640a0ea9c4",
   "metadata": {},
   "source": [
    "##### 2. 🎯 Make names meaningful & descriptive"
   ]
  },
  {
   "cell_type": "code",
   "execution_count": 7,
   "id": "b427a4b4-dcf3-49dd-b063-4ad4afeb1efc",
   "metadata": {},
   "outputs": [],
   "source": [
    "# Bad:\n",
    "x = 5\n",
    "# Good:\n",
    "number_of_students = 5"
   ]
  },
  {
   "cell_type": "markdown",
   "id": "78ea9de5-6f2d-4807-8a68-4c2321c94e3b",
   "metadata": {},
   "source": [
    "##### 3. 🚫 Don’t use single-letter variable names (unless in loops)"
   ]
  },
  {
   "cell_type": "code",
   "execution_count": 6,
   "id": "5433d44a-f356-460f-b560-54d56a08aaab",
   "metadata": {},
   "outputs": [
    {
     "name": "stdout",
     "output_type": "stream",
     "text": [
      "0\n",
      "1\n",
      "2\n",
      "3\n",
      "4\n"
     ]
    }
   ],
   "source": [
    "for i in range(5):   # ✅ i is fine here\n",
    "    print(i)"
   ]
  },
  {
   "cell_type": "markdown",
   "id": "8113a08c-bb0a-47eb-a8cb-2eeedb3fbe03",
   "metadata": {},
   "source": [
    "##### 4. 🔒 Use underscore _ before a variable name to indicate “private” (common in classes)"
   ]
  },
  {
   "cell_type": "code",
   "execution_count": 8,
   "id": "fc8cd8d8-3935-46d1-a3dd-5239e7a1defd",
   "metadata": {},
   "outputs": [],
   "source": [
    "_private_value = 10"
   ]
  },
  {
   "cell_type": "code",
   "execution_count": null,
   "id": "9aaf32f2-4a86-4096-a2e8-9c079c3c0494",
   "metadata": {},
   "outputs": [],
   "source": []
  },
  {
   "cell_type": "markdown",
   "id": "3e665255-a7a0-491b-8863-719bb70155b0",
   "metadata": {},
   "source": [
    "#### 🔁 Special Cases"
   ]
  },
  {
   "cell_type": "markdown",
   "id": "0600556d-b208-4840-a083-68c14e9abf1d",
   "metadata": {},
   "source": [
    "| Naming Style                     | Used For                        | Example              |\n",
    "| -------------------------------- | ------------------------------- | -------------------- |\n",
    "| `snake_case`                     | ✅ Variables, functions          | `total_count = 10`   |\n",
    "| `UPPER_CASE`                     | ✅ Constants                     | `PI = 3.14`          |\n",
    "| `CamelCase`                      | ✅ Class names                   | `class StudentInfo:` |\n",
    "| `_single_leading_underscore`     | 🔒 Internal use (non-public)    | `_temp = 5`          |\n",
    "| `__double_leading__underscore__` | 🔧 System-defined/magic methods | `__init__()`         |\n"
   ]
  },
  {
   "cell_type": "markdown",
   "id": "505f2d7d-1d52-47d3-ad36-73e3d45966d6",
   "metadata": {},
   "source": [
    "#### 🚫 Common Mistakes\n",
    "- total 1 = 10        # ❌ No space or starting number\n",
    "- my-variable = 3     # ❌ Hyphens not allowed\n",
    "- def = 4             # ❌ 'def' is a Python keyword"
   ]
  },
  {
   "cell_type": "markdown",
   "id": "aba3cfc9-2b01-4150-b857-97f5ed0851be",
   "metadata": {},
   "source": [
    "#### Python Variable Naming Convention:\n",
    "\n",
    "✅ Valid:\n",
    "- Use lowercase and underscores (snake_case)\n",
    "- Start with a letter or underscore\n",
    "- Be descriptive\n",
    "\n",
    "❌ Invalid:\n",
    "- Don’t start with a digit\n",
    "- No special characters (except _)\n",
    "- Don’t use spaces\n",
    "- Don’t use Python keywords\n",
    "\n",
    "Examples:\n",
    "- first_name = \"Raju\"\n",
    "- total_amount = 100.50\n",
    "- MAX_USERS = 50         (constant)\n",
    "- class StudentDetails:  (class name in CamelCase)\n"
   ]
  },
  {
   "cell_type": "markdown",
   "id": "f38d5896-f0fc-4b2b-8b43-e18cc311beaa",
   "metadata": {},
   "source": [
    "### Final Note:\n",
    "- Variables are containers that store data in a Python program\n",
    "- Variables can store different types of data types such as string, integer, float, Boolean\n",
    "- Rules of naming variables correctly:\n",
    "- -\tYou can not use reserve words as variable names (e.g. def, True, etec.)\n",
    "- - Variable names must start with a letter or an underscore _\n",
    "- -\tIt can not contain spaces or special characters (@, #, $, %, etc.)\n",
    "- -\tUnderscore _ is an valid character and can be present at any place in a variable name"
   ]
  },
  {
   "cell_type": "code",
   "execution_count": null,
   "id": "62ea12a0-eb4e-497b-a495-c8a03372d83b",
   "metadata": {},
   "outputs": [],
   "source": []
  },
  {
   "cell_type": "code",
   "execution_count": null,
   "id": "6203d792-a44b-4751-96ad-9ae9f392f05f",
   "metadata": {},
   "outputs": [],
   "source": []
  },
  {
   "cell_type": "markdown",
   "id": "5e06de2c-9dca-4d27-90e2-26093a11b0fe",
   "metadata": {},
   "source": [
    "### 🧮 2. Numbers in Python\n",
    "- Python supports several types of numbers:"
   ]
  },
  {
   "cell_type": "markdown",
   "id": "4a113c41-a770-47f1-8a9a-5916cc6c0afe",
   "metadata": {},
   "source": [
    "| Type    | Example  |\n",
    "| ------- | -------- |\n",
    "| Integer | `10`     |\n",
    "| Float   | `3.14`   |\n",
    "| Complex | `3 + 5j` |\n"
   ]
  },
  {
   "cell_type": "markdown",
   "id": "68e411ce-9dd1-44a6-b140-639687d26d11",
   "metadata": {},
   "source": [
    "#### 📌 Example:"
   ]
  },
  {
   "cell_type": "code",
   "execution_count": 10,
   "id": "62712be9-eaef-4662-b2a9-d292b3175a33",
   "metadata": {},
   "outputs": [],
   "source": [
    "a = 10        # Integer\n",
    "b = 3.14      # Float\n",
    "c = 2 + 3j    # Complex"
   ]
  },
  {
   "cell_type": "code",
   "execution_count": 16,
   "id": "b8e03e02-92b9-4f1a-9369-3f5e322a8375",
   "metadata": {},
   "outputs": [
    {
     "name": "stdout",
     "output_type": "stream",
     "text": [
      "Addition: 7\n",
      "Substraction: 3\n",
      "Multiplication: 10\n",
      "Division: 2.5\n",
      "Floor Division: 2\n",
      "Modulus- Reminder: 1\n",
      "Power 25\n"
     ]
    }
   ],
   "source": [
    "# You can perform arithmetic operations:\n",
    "x = 5\n",
    "y = 2\n",
    "print(\"Addition:\", x + y)  # 7\n",
    "print(\"Substraction:\", x - y)  # 3\n",
    "print(\"Multiplication:\", x * y)  # 10\n",
    "print(\"Division:\", x / y)  # 2.5\n",
    "print(\"Floor Division:\", x // y) # 2 (floor division)\n",
    "print(\"Modulus- Reminder:\", x % y)  # 1 (modulus)\n",
    "print(\"Power\", x ** y) # 25 (power)\n"
   ]
  },
  {
   "cell_type": "markdown",
   "id": "61b52574-865b-43a0-84bd-fbe7db3fd066",
   "metadata": {},
   "source": [
    "#### Area of a Triangle"
   ]
  },
  {
   "cell_type": "code",
   "execution_count": 1,
   "id": "8d919e92-72c1-4f03-830c-57a0e20619b6",
   "metadata": {},
   "outputs": [
    {
     "data": {
      "text/plain": [
       "35.0"
      ]
     },
     "execution_count": 1,
     "metadata": {},
     "output_type": "execute_result"
    }
   ],
   "source": [
    "base = 10\n",
    "height = 7\n",
    "\n",
    "area = (base*height)/2\n",
    "area"
   ]
  },
  {
   "cell_type": "code",
   "execution_count": 2,
   "id": "e8267926-dd3d-426c-a8ca-d8589a91ca84",
   "metadata": {},
   "outputs": [
    {
     "data": {
      "text/plain": [
       "float"
      ]
     },
     "execution_count": 2,
     "metadata": {},
     "output_type": "execute_result"
    }
   ],
   "source": [
    "type(area)"
   ]
  },
  {
   "cell_type": "code",
   "execution_count": 3,
   "id": "915f4f40-bbcb-4dc0-81cb-6c55e0091570",
   "metadata": {},
   "outputs": [
    {
     "data": {
      "text/plain": [
       "2"
      ]
     },
     "execution_count": 3,
     "metadata": {},
     "output_type": "execute_result"
    }
   ],
   "source": [
    "round(2.3)"
   ]
  },
  {
   "cell_type": "code",
   "execution_count": 5,
   "id": "8fcbdfa4-6ca4-4b89-be99-5ec096609a24",
   "metadata": {},
   "outputs": [
    {
     "data": {
      "text/plain": [
       "2.37"
      ]
     },
     "execution_count": 5,
     "metadata": {},
     "output_type": "execute_result"
    }
   ],
   "source": [
    "round(2.3698,2)"
   ]
  },
  {
   "cell_type": "code",
   "execution_count": 6,
   "id": "4bc794b5-bace-4656-b074-75fcad1fbdad",
   "metadata": {},
   "outputs": [
    {
     "data": {
      "text/plain": [
       "2.4"
      ]
     },
     "execution_count": 6,
     "metadata": {},
     "output_type": "execute_result"
    }
   ],
   "source": [
    "round(2.3698,1)"
   ]
  },
  {
   "cell_type": "markdown",
   "id": "435e2a4e-9eed-414e-8e1e-87b1d474abba",
   "metadata": {},
   "source": [
    "#### Math functions"
   ]
  },
  {
   "cell_type": "code",
   "execution_count": 7,
   "id": "c96ce493-e3ec-4bfc-a617-6ae5d7ba8772",
   "metadata": {},
   "outputs": [
    {
     "data": {
      "text/plain": [
       "4.0"
      ]
     },
     "execution_count": 7,
     "metadata": {},
     "output_type": "execute_result"
    }
   ],
   "source": [
    "import math\n",
    "\n",
    "x=16\n",
    "math.sqrt(x)"
   ]
  },
  {
   "cell_type": "code",
   "execution_count": 8,
   "id": "871d3558-fce4-4030-bb6d-15c8c54bb16d",
   "metadata": {},
   "outputs": [
    {
     "data": {
      "text/plain": [
       "3"
      ]
     },
     "execution_count": 8,
     "metadata": {},
     "output_type": "execute_result"
    }
   ],
   "source": [
    "math.floor(3.7)"
   ]
  },
  {
   "cell_type": "code",
   "execution_count": 9,
   "id": "75055347-2ce0-4212-a54d-d5b690f43951",
   "metadata": {},
   "outputs": [
    {
     "data": {
      "text/plain": [
       "4"
      ]
     },
     "execution_count": 9,
     "metadata": {},
     "output_type": "execute_result"
    }
   ],
   "source": [
    "math.ceil(3.7)"
   ]
  },
  {
   "cell_type": "code",
   "execution_count": 10,
   "id": "26943d7a-c6ef-4178-9d5c-9f4c157afd97",
   "metadata": {},
   "outputs": [
    {
     "data": {
      "text/plain": [
       "3.141592653589793"
      ]
     },
     "execution_count": 10,
     "metadata": {},
     "output_type": "execute_result"
    }
   ],
   "source": [
    "math.pi"
   ]
  },
  {
   "cell_type": "code",
   "execution_count": 11,
   "id": "6a6b7df7-7b89-4506-9329-e38aa3394b08",
   "metadata": {
    "scrolled": true
   },
   "outputs": [
    {
     "data": {
      "text/plain": [
       "['__doc__',\n",
       " '__loader__',\n",
       " '__name__',\n",
       " '__package__',\n",
       " '__spec__',\n",
       " 'acos',\n",
       " 'acosh',\n",
       " 'asin',\n",
       " 'asinh',\n",
       " 'atan',\n",
       " 'atan2',\n",
       " 'atanh',\n",
       " 'ceil',\n",
       " 'comb',\n",
       " 'copysign',\n",
       " 'cos',\n",
       " 'cosh',\n",
       " 'degrees',\n",
       " 'dist',\n",
       " 'e',\n",
       " 'erf',\n",
       " 'erfc',\n",
       " 'exp',\n",
       " 'expm1',\n",
       " 'fabs',\n",
       " 'factorial',\n",
       " 'floor',\n",
       " 'fmod',\n",
       " 'frexp',\n",
       " 'fsum',\n",
       " 'gamma',\n",
       " 'gcd',\n",
       " 'hypot',\n",
       " 'inf',\n",
       " 'isclose',\n",
       " 'isfinite',\n",
       " 'isinf',\n",
       " 'isnan',\n",
       " 'isqrt',\n",
       " 'lcm',\n",
       " 'ldexp',\n",
       " 'lgamma',\n",
       " 'log',\n",
       " 'log10',\n",
       " 'log1p',\n",
       " 'log2',\n",
       " 'modf',\n",
       " 'nan',\n",
       " 'nextafter',\n",
       " 'perm',\n",
       " 'pi',\n",
       " 'pow',\n",
       " 'prod',\n",
       " 'radians',\n",
       " 'remainder',\n",
       " 'sin',\n",
       " 'sinh',\n",
       " 'sqrt',\n",
       " 'tan',\n",
       " 'tanh',\n",
       " 'tau',\n",
       " 'trunc',\n",
       " 'ulp']"
      ]
     },
     "execution_count": 11,
     "metadata": {},
     "output_type": "execute_result"
    }
   ],
   "source": [
    "dir(math)"
   ]
  },
  {
   "cell_type": "markdown",
   "id": "3a1ab198-f0d0-404b-bbb2-23719b626c33",
   "metadata": {},
   "source": [
    "#### Print the binary of a integer number"
   ]
  },
  {
   "cell_type": "code",
   "execution_count": 13,
   "id": "c399865f-f131-456e-98c2-a2b4b1b3747f",
   "metadata": {},
   "outputs": [
    {
     "data": {
      "text/plain": [
       "'1011'"
      ]
     },
     "execution_count": 13,
     "metadata": {},
     "output_type": "execute_result"
    }
   ],
   "source": [
    "format(11, 'b')"
   ]
  },
  {
   "cell_type": "code",
   "execution_count": null,
   "id": "1a44f0ab-4b8f-48e3-a7e4-b5a63ed2f6a6",
   "metadata": {},
   "outputs": [],
   "source": []
  },
  {
   "cell_type": "code",
   "execution_count": null,
   "id": "0b51f663-b354-4c60-9b92-08572c44c36c",
   "metadata": {},
   "outputs": [],
   "source": []
  },
  {
   "cell_type": "markdown",
   "id": "f1c777dd-7512-4e74-aed4-e1004f9193a9",
   "metadata": {},
   "source": [
    "### 3. Strings in Python"
   ]
  },
  {
   "cell_type": "markdown",
   "id": "1101ae55-a8b9-4659-9da3-1ae54dc267c5",
   "metadata": {},
   "source": [
    "#### A string is a sequence of characters inside quotes."
   ]
  },
  {
   "cell_type": "code",
   "execution_count": 1,
   "id": "fed18a28-3aac-4f07-9892-0e7755073ee9",
   "metadata": {},
   "outputs": [],
   "source": [
    "name = \"Raju\"\n",
    "greeting = 'Hello'"
   ]
  },
  {
   "cell_type": "markdown",
   "id": "21d30315-9652-4efa-ad15-45cbc93b473f",
   "metadata": {},
   "source": [
    "#### Common string operations:"
   ]
  },
  {
   "cell_type": "code",
   "execution_count": 2,
   "id": "aa79a96d-be8c-47ee-b9a1-2ef0bd5d38dc",
   "metadata": {},
   "outputs": [
    {
     "name": "stdout",
     "output_type": "stream",
     "text": [
      "Raju Das\n",
      "4\n",
      "R\n",
      "u\n",
      "aj\n",
      "RAJU\n",
      "raju\n",
      "True\n",
      "True\n"
     ]
    }
   ],
   "source": [
    "# Concatenation\n",
    "full_name = \"Raju\" + \" \" + \"Das\"\n",
    "print(full_name)\n",
    "\n",
    "# Length\n",
    "print(len(name))  # 4\n",
    "\n",
    "# Indexing\n",
    "print(name[0])  # R\n",
    "print(name[-1]) # u\n",
    "\n",
    "# Slicing\n",
    "print(name[1:3])  # aj\n",
    "\n",
    "# String Methods\n",
    "print(name.upper())     # RAJU\n",
    "print(name.lower())     # raju\n",
    "print(name.startswith(\"Ra\"))  # True\n",
    "print(name.endswith(\"u\"))     # True"
   ]
  },
  {
   "cell_type": "code",
   "execution_count": 3,
   "id": "08ec32f3-b021-4fe7-95c4-5477fba9976a",
   "metadata": {},
   "outputs": [
    {
     "name": "stdout",
     "output_type": "stream",
     "text": [
      "30\n",
      "WELCOME TO PYTHON\n"
     ]
    }
   ],
   "source": [
    "# Variables\n",
    "name = \"Raju\"\n",
    "age = 25\n",
    "\n",
    "# Numbers\n",
    "height = 5.9\n",
    "print(age + 5)\n",
    "\n",
    "# Strings\n",
    "message = \"Welcome to Python\"\n",
    "print(message.upper())\n"
   ]
  },
  {
   "cell_type": "code",
   "execution_count": 3,
   "id": "9149501a-6718-434c-a1a9-c0965d716255",
   "metadata": {},
   "outputs": [],
   "source": [
    "first = 'Raju'\n",
    "last = 'Das'"
   ]
  },
  {
   "cell_type": "code",
   "execution_count": 5,
   "id": "50d44c0c-621f-4484-bf89-1e168b6d79f5",
   "metadata": {},
   "outputs": [
    {
     "data": {
      "text/plain": [
       "str"
      ]
     },
     "execution_count": 5,
     "metadata": {},
     "output_type": "execute_result"
    }
   ],
   "source": [
    "type(first)"
   ]
  },
  {
   "cell_type": "code",
   "execution_count": 4,
   "id": "d0aee3b8-207c-4784-a9bd-524ef6f0c388",
   "metadata": {},
   "outputs": [
    {
     "data": {
      "text/plain": [
       "'Raju Das'"
      ]
     },
     "execution_count": 4,
     "metadata": {},
     "output_type": "execute_result"
    }
   ],
   "source": [
    "name = first + \" \" + last\n",
    "name"
   ]
  },
  {
   "cell_type": "code",
   "execution_count": 5,
   "id": "a42247f4-f321-474d-8190-934275d3ed39",
   "metadata": {},
   "outputs": [
    {
     "data": {
      "text/plain": [
       "'Raju Das'"
      ]
     },
     "execution_count": 5,
     "metadata": {},
     "output_type": "execute_result"
    }
   ],
   "source": [
    "name = f\"{first} {last}\"\n",
    "name"
   ]
  },
  {
   "cell_type": "code",
   "execution_count": 6,
   "id": "60f14fb6-d129-4129-b1d7-c9849d9f5c88",
   "metadata": {},
   "outputs": [],
   "source": [
    "age = 35"
   ]
  },
  {
   "cell_type": "code",
   "execution_count": 7,
   "id": "bae33187-18f6-4cbc-9576-a9bf792a1562",
   "metadata": {},
   "outputs": [
    {
     "data": {
      "text/plain": [
       "'Raju Das is 35 years old'"
      ]
     },
     "execution_count": 7,
     "metadata": {},
     "output_type": "execute_result"
    }
   ],
   "source": [
    "info = f\"{first} {last} is {age} years old\"\n",
    "info"
   ]
  },
  {
   "cell_type": "code",
   "execution_count": 8,
   "id": "fec0eb64-fedc-4b85-8e01-be70e97a2d0a",
   "metadata": {},
   "outputs": [
    {
     "data": {
      "text/plain": [
       "8"
      ]
     },
     "execution_count": 8,
     "metadata": {},
     "output_type": "execute_result"
    }
   ],
   "source": [
    "len(name)"
   ]
  },
  {
   "cell_type": "code",
   "execution_count": 11,
   "id": "fad94874-6df7-4873-85f2-4204e3680ec2",
   "metadata": {},
   "outputs": [
    {
     "data": {
      "text/plain": [
       "'R'"
      ]
     },
     "execution_count": 11,
     "metadata": {},
     "output_type": "execute_result"
    }
   ],
   "source": [
    "name[0] "
   ]
  },
  {
   "cell_type": "code",
   "execution_count": 12,
   "id": "f9b81b96-cc6b-44f7-a951-7b20797d38b0",
   "metadata": {},
   "outputs": [
    {
     "data": {
      "text/plain": [
       "'a'"
      ]
     },
     "execution_count": 12,
     "metadata": {},
     "output_type": "execute_result"
    }
   ],
   "source": [
    "name[1]"
   ]
  },
  {
   "cell_type": "code",
   "execution_count": 13,
   "id": "8a45aceb-dc62-40cf-953e-d7438e525340",
   "metadata": {},
   "outputs": [
    {
     "data": {
      "text/plain": [
       "'Raju '"
      ]
     },
     "execution_count": 13,
     "metadata": {},
     "output_type": "execute_result"
    }
   ],
   "source": [
    "name[0:5] #Slice Operator"
   ]
  },
  {
   "cell_type": "code",
   "execution_count": 15,
   "id": "ac3bb76e-a564-4115-b73b-d81157bdc977",
   "metadata": {},
   "outputs": [
    {
     "data": {
      "text/plain": [
       "'Das'"
      ]
     },
     "execution_count": 15,
     "metadata": {},
     "output_type": "execute_result"
    }
   ],
   "source": [
    "name[5:]"
   ]
  },
  {
   "cell_type": "code",
   "execution_count": 16,
   "id": "a0f93b23-2c2f-44ec-811b-51d58a465cc7",
   "metadata": {},
   "outputs": [
    {
     "data": {
      "text/plain": [
       "'s'"
      ]
     },
     "execution_count": 16,
     "metadata": {},
     "output_type": "execute_result"
    }
   ],
   "source": [
    "name[-1]"
   ]
  },
  {
   "cell_type": "code",
   "execution_count": 17,
   "id": "c81c8584-190c-48f5-a31a-7ef2119ed66f",
   "metadata": {},
   "outputs": [],
   "source": [
    "#double cote and single cote\n",
    "\n",
    "food_story=\"Raju's favourite food is banana\"\n",
    "s = 'he said \"opps\"'"
   ]
  },
  {
   "cell_type": "code",
   "execution_count": 18,
   "id": "0b185d85-f1fb-4d0c-92d5-b21ab013f7ec",
   "metadata": {},
   "outputs": [
    {
     "data": {
      "text/plain": [
       "'Veg biriyani with saffron, cardmom, and cloves, garnished with fried onions and cilantro.'"
      ]
     },
     "execution_count": 18,
     "metadata": {},
     "output_type": "execute_result"
    }
   ],
   "source": [
    "#long string handeling - new line\n",
    "recipe = \"Veg biriyani with saffron, cardmom, and cloves, garnished with fried onions and cilantro.\"\n",
    "recipe"
   ]
  },
  {
   "cell_type": "code",
   "execution_count": 19,
   "id": "e2b3ce40-927d-4475-b11c-e9b3cf5c4748",
   "metadata": {},
   "outputs": [
    {
     "data": {
      "text/plain": [
       "'Veg biriyani with saffron, \\ncardmom, and cloves, garnished with \\nfried onions and cilantro.'"
      ]
     },
     "execution_count": 19,
     "metadata": {},
     "output_type": "execute_result"
    }
   ],
   "source": [
    "recipe = '''Veg biriyani with saffron, \n",
    "cardmom, and cloves, garnished with \n",
    "fried onions and cilantro.'''\n",
    "recipe"
   ]
  },
  {
   "cell_type": "code",
   "execution_count": 20,
   "id": "b4e1cc38-d56d-48f6-b958-d4a3c4bfde51",
   "metadata": {},
   "outputs": [
    {
     "name": "stdout",
     "output_type": "stream",
     "text": [
      "Veg biriyani with saffron, \n",
      "cardmom, and cloves, garnished with \n",
      "fried onions and cilantro.\n"
     ]
    }
   ],
   "source": [
    "print(recipe)"
   ]
  },
  {
   "cell_type": "code",
   "execution_count": 21,
   "id": "4ab39552-7f7d-4b35-955d-7d98d65f4667",
   "metadata": {},
   "outputs": [
    {
     "data": {
      "text/plain": [
       "True"
      ]
     },
     "execution_count": 21,
     "metadata": {},
     "output_type": "execute_result"
    }
   ],
   "source": [
    "#checking a string present or not in a paragraph\n",
    "spice=\"cardmom\"\n",
    "spice in recipe"
   ]
  },
  {
   "cell_type": "code",
   "execution_count": 23,
   "id": "7a7bd04f-9fa3-4e47-98d9-56fff5e89592",
   "metadata": {},
   "outputs": [
    {
     "data": {
      "text/plain": [
       "False"
      ]
     },
     "execution_count": 23,
     "metadata": {},
     "output_type": "execute_result"
    }
   ],
   "source": [
    "\"milk\" in recipe"
   ]
  },
  {
   "cell_type": "code",
   "execution_count": 24,
   "id": "3db7c178-4540-4e07-8a06-4522144c5cf7",
   "metadata": {},
   "outputs": [
    {
     "data": {
      "text/plain": [
       "28"
      ]
     },
     "execution_count": 24,
     "metadata": {},
     "output_type": "execute_result"
    }
   ],
   "source": [
    "# want to know the index where the index is present \n",
    "recipe.find(spice)"
   ]
  },
  {
   "cell_type": "code",
   "execution_count": null,
   "id": "eb1a48ef-0d7c-4115-933b-d799363110fb",
   "metadata": {},
   "outputs": [],
   "source": []
  },
  {
   "cell_type": "code",
   "execution_count": 25,
   "id": "50cbdf06-b2eb-4ee4-8899-13dcfd8dbc2a",
   "metadata": {},
   "outputs": [
    {
     "data": {
      "text/plain": [
       "'patient was charged 100$ for lab test'"
      ]
     },
     "execution_count": 25,
     "metadata": {},
     "output_type": "execute_result"
    }
   ],
   "source": [
    "# some usefull functions in strings\n",
    "s = \"patient was charged 100$ for lab test\"\n",
    "s"
   ]
  },
  {
   "cell_type": "code",
   "execution_count": 26,
   "id": "09851532-5296-42c3-b87d-f2ef9cc0d602",
   "metadata": {
    "scrolled": true
   },
   "outputs": [
    {
     "data": {
      "text/plain": [
       "['__add__',\n",
       " '__class__',\n",
       " '__contains__',\n",
       " '__delattr__',\n",
       " '__dir__',\n",
       " '__doc__',\n",
       " '__eq__',\n",
       " '__format__',\n",
       " '__ge__',\n",
       " '__getattribute__',\n",
       " '__getitem__',\n",
       " '__getnewargs__',\n",
       " '__gt__',\n",
       " '__hash__',\n",
       " '__init__',\n",
       " '__init_subclass__',\n",
       " '__iter__',\n",
       " '__le__',\n",
       " '__len__',\n",
       " '__lt__',\n",
       " '__mod__',\n",
       " '__mul__',\n",
       " '__ne__',\n",
       " '__new__',\n",
       " '__reduce__',\n",
       " '__reduce_ex__',\n",
       " '__repr__',\n",
       " '__rmod__',\n",
       " '__rmul__',\n",
       " '__setattr__',\n",
       " '__sizeof__',\n",
       " '__str__',\n",
       " '__subclasshook__',\n",
       " 'capitalize',\n",
       " 'casefold',\n",
       " 'center',\n",
       " 'count',\n",
       " 'encode',\n",
       " 'endswith',\n",
       " 'expandtabs',\n",
       " 'find',\n",
       " 'format',\n",
       " 'format_map',\n",
       " 'index',\n",
       " 'isalnum',\n",
       " 'isalpha',\n",
       " 'isascii',\n",
       " 'isdecimal',\n",
       " 'isdigit',\n",
       " 'isidentifier',\n",
       " 'islower',\n",
       " 'isnumeric',\n",
       " 'isprintable',\n",
       " 'isspace',\n",
       " 'istitle',\n",
       " 'isupper',\n",
       " 'join',\n",
       " 'ljust',\n",
       " 'lower',\n",
       " 'lstrip',\n",
       " 'maketrans',\n",
       " 'partition',\n",
       " 'removeprefix',\n",
       " 'removesuffix',\n",
       " 'replace',\n",
       " 'rfind',\n",
       " 'rindex',\n",
       " 'rjust',\n",
       " 'rpartition',\n",
       " 'rsplit',\n",
       " 'rstrip',\n",
       " 'split',\n",
       " 'splitlines',\n",
       " 'startswith',\n",
       " 'strip',\n",
       " 'swapcase',\n",
       " 'title',\n",
       " 'translate',\n",
       " 'upper',\n",
       " 'zfill']"
      ]
     },
     "execution_count": 26,
     "metadata": {},
     "output_type": "execute_result"
    }
   ],
   "source": [
    "dir(s)"
   ]
  },
  {
   "cell_type": "code",
   "execution_count": 28,
   "id": "2c4fd59d-2cfd-48de-9c8b-40d1adb1f313",
   "metadata": {},
   "outputs": [
    {
     "data": {
      "text/plain": [
       "'patient was charged 200$ for lab test'"
      ]
     },
     "execution_count": 28,
     "metadata": {},
     "output_type": "execute_result"
    }
   ],
   "source": [
    "# want to replace 100$ with 200$\n",
    "s.replace(\"100$\", \"200$\")"
   ]
  },
  {
   "cell_type": "code",
   "execution_count": 30,
   "id": "d4515a33-851f-43e5-88a8-129489645f65",
   "metadata": {},
   "outputs": [
    {
     "data": {
      "text/plain": [
       "'patient was charged 100$ for lab test'"
      ]
     },
     "execution_count": 30,
     "metadata": {},
     "output_type": "execute_result"
    }
   ],
   "source": [
    "# but the data is not changed in the variable s\n",
    "s"
   ]
  },
  {
   "cell_type": "code",
   "execution_count": 32,
   "id": "52bd6e6e-3902-4ca8-9e9e-ca1cae50d209",
   "metadata": {},
   "outputs": [
    {
     "data": {
      "text/plain": [
       "'patient was charged 200$ for lab test'"
      ]
     },
     "execution_count": 32,
     "metadata": {},
     "output_type": "execute_result"
    }
   ],
   "source": [
    "# to do changes remin in the same string\n",
    "\n",
    "s = s.replace(\"100$\", \"200$\")\n",
    "s"
   ]
  },
  {
   "cell_type": "code",
   "execution_count": 33,
   "id": "1d3ff7a4-d38b-4136-b97e-980ca3e98e8b",
   "metadata": {},
   "outputs": [
    {
     "data": {
      "text/plain": [
       "'PATIENT WAS CHARGED 200$ FOR LAB TEST'"
      ]
     },
     "execution_count": 33,
     "metadata": {},
     "output_type": "execute_result"
    }
   ],
   "source": [
    "s.upper()"
   ]
  },
  {
   "cell_type": "code",
   "execution_count": 35,
   "id": "5c7c4163-646d-4e1b-9cb1-a7d0647fb909",
   "metadata": {},
   "outputs": [
    {
     "data": {
      "text/plain": [
       "'abc'"
      ]
     },
     "execution_count": 35,
     "metadata": {},
     "output_type": "execute_result"
    }
   ],
   "source": [
    "a = \"ABC\"\n",
    "a.lower()"
   ]
  },
  {
   "cell_type": "code",
   "execution_count": 37,
   "id": "8e0ecf3b-1566-4dbe-9f42-903f7aad1799",
   "metadata": {},
   "outputs": [
    {
     "data": {
      "text/plain": [
       "True"
      ]
     },
     "execution_count": 37,
     "metadata": {},
     "output_type": "execute_result"
    }
   ],
   "source": [
    "'410'.isdigit()"
   ]
  },
  {
   "cell_type": "code",
   "execution_count": 38,
   "id": "32d79a89-f5c4-4245-8528-814e78b8ae7f",
   "metadata": {},
   "outputs": [
    {
     "data": {
      "text/plain": [
       "False"
      ]
     },
     "execution_count": 38,
     "metadata": {},
     "output_type": "execute_result"
    }
   ],
   "source": [
    "'41a0'.isdigit()"
   ]
  },
  {
   "cell_type": "code",
   "execution_count": 39,
   "id": "c99e9226-3e21-4821-8479-a2bbbfcccc76",
   "metadata": {},
   "outputs": [
    {
     "data": {
      "text/plain": [
       "20"
      ]
     },
     "execution_count": 39,
     "metadata": {},
     "output_type": "execute_result"
    }
   ],
   "source": [
    "s.index(\"200$\")"
   ]
  },
  {
   "cell_type": "code",
   "execution_count": 41,
   "id": "a7df792f-b6d0-42cc-9f2d-90159bd1e9f5",
   "metadata": {},
   "outputs": [
    {
     "ename": "TypeError",
     "evalue": "can only concatenate str (not \"int\") to str",
     "output_type": "error",
     "traceback": [
      "\u001b[1;31m---------------------------------------------------------------------------\u001b[0m",
      "\u001b[1;31mTypeError\u001b[0m                                 Traceback (most recent call last)",
      "Cell \u001b[1;32mIn[41], line 5\u001b[0m\n\u001b[0;32m      2\u001b[0m text \u001b[38;5;241m=\u001b[39m \u001b[38;5;124m\"\u001b[39m\u001b[38;5;124mmy age is:\u001b[39m\u001b[38;5;124m\"\u001b[39m\n\u001b[0;32m      3\u001b[0m age \u001b[38;5;241m=\u001b[39m \u001b[38;5;241m38\u001b[39m\n\u001b[1;32m----> 5\u001b[0m \u001b[43mtext\u001b[49m\u001b[43m \u001b[49m\u001b[38;5;241;43m+\u001b[39;49m\u001b[43m \u001b[49m\u001b[43mage\u001b[49m\n",
      "\u001b[1;31mTypeError\u001b[0m: can only concatenate str (not \"int\") to str"
     ]
    }
   ],
   "source": [
    "# join one strings with int\n",
    "text = \"my age is:\"\n",
    "age = 38\n",
    "\n",
    "text + age"
   ]
  },
  {
   "cell_type": "code",
   "execution_count": 42,
   "id": "ca916104-1aef-4ae5-8b59-da261c778b12",
   "metadata": {},
   "outputs": [
    {
     "data": {
      "text/plain": [
       "'my age is:38'"
      ]
     },
     "execution_count": 42,
     "metadata": {},
     "output_type": "execute_result"
    }
   ],
   "source": [
    "# to do that need to change age to string\n",
    "\n",
    "text + str(age)"
   ]
  },
  {
   "cell_type": "code",
   "execution_count": 43,
   "id": "2d054df7-e5f6-4b0c-81b6-6444757dd27f",
   "metadata": {},
   "outputs": [
    {
     "name": "stdout",
     "output_type": "stream",
     "text": [
      "hey\tbro\n"
     ]
    }
   ],
   "source": [
    "s = \"hey\\tbro\"\n",
    "print(s)"
   ]
  },
  {
   "cell_type": "code",
   "execution_count": 44,
   "id": "2c173fb4-e706-4f80-9ec4-b33d85948d02",
   "metadata": {},
   "outputs": [
    {
     "data": {
      "text/plain": [
       "['AAPL', 'NVDA', 'RIL', 'GOGL']"
      ]
     },
     "execution_count": 44,
     "metadata": {},
     "output_type": "execute_result"
    }
   ],
   "source": [
    "# split \n",
    "tickers = \"AAPL|NVDA|RIL|GOGL\"\n",
    "tickers.split(\"|\")"
   ]
  },
  {
   "cell_type": "code",
   "execution_count": 46,
   "id": "8b2a93d3-5d92-45fb-862d-a35df7168ffd",
   "metadata": {},
   "outputs": [
    {
     "data": {
      "text/plain": [
       "['AAPL', 'NVDA', 'RIL|GOGL']"
      ]
     },
     "execution_count": 46,
     "metadata": {},
     "output_type": "execute_result"
    }
   ],
   "source": [
    "# split with maxsplit\n",
    "tickers = \"AAPL|NVDA|RIL|GOGL\"\n",
    "tickers.split(\"|\",maxsplit=2)"
   ]
  },
  {
   "cell_type": "code",
   "execution_count": 48,
   "id": "6a12d7df-168c-4f2c-b9c4-488df4548d1f",
   "metadata": {},
   "outputs": [
    {
     "data": {
      "text/plain": [
       "'  hey, we have to go there, you coming der  ? '"
      ]
     },
     "execution_count": 48,
     "metadata": {},
     "output_type": "execute_result"
    }
   ],
   "source": [
    "# usefull to cleaning data with extra space\n",
    "\n",
    "data = \"  hey, we have to go there, you coming der  ? \"\n",
    "data"
   ]
  },
  {
   "cell_type": "code",
   "execution_count": 49,
   "id": "1b1fe68a-a33d-496e-8b52-a63a00e10be8",
   "metadata": {},
   "outputs": [
    {
     "data": {
      "text/plain": [
       "'hey, we have to go there, you coming der  ?'"
      ]
     },
     "execution_count": 49,
     "metadata": {},
     "output_type": "execute_result"
    }
   ],
   "source": [
    "# wide spaces remove\n",
    "data.strip()"
   ]
  },
  {
   "cell_type": "markdown",
   "id": "90796562-2f60-4c4e-8a8d-1fcce5b9ca7d",
   "metadata": {},
   "source": [
    "### Note\n",
    "- In Python, strings are immutable, meaning they cannot be changed once created.\n",
    "- Access specific characters or substrings in Python using indexing (e.g., name[0]) and slice (e.g., name[1:5])\n",
    "- Use string formating techniques like f-strings (e.g., f'{variable}') for easier and more readable string composition in Python.\n",
    "- Python provides built-in meathods for strings, such as .upper(), .lower(), .split(), and .strip()"
   ]
  },
  {
   "cell_type": "code",
   "execution_count": null,
   "id": "73c9c346-d782-4959-a3d1-dec743e69387",
   "metadata": {},
   "outputs": [],
   "source": []
  },
  {
   "cell_type": "markdown",
   "id": "4de094a1-e36f-48b5-b5f6-ea5159ed6ebe",
   "metadata": {},
   "source": [
    "#### Strings - Exercise"
   ]
  },
  {
   "cell_type": "markdown",
   "id": "d06472f4-af31-4953-bfa1-42176d09da37",
   "metadata": {},
   "source": [
    "### 1 — Quick exploration"
   ]
  },
  {
   "cell_type": "code",
   "execution_count": 54,
   "id": "4cbd8b11-b60a-4790-af2b-8f5747bd0749",
   "metadata": {},
   "outputs": [
    {
     "name": "stdout",
     "output_type": "stream",
     "text": [
      "<class 'str'>\n",
      "['__add__', '__class__', '__contains__', '__delattr__', '__dir__', '__doc__', '__eq__', '__format__', '__ge__', '__getattribute__', '__getitem__', '__getnewargs__', '__gt__', '__hash__', '__init__', '__init_subclass__', '__iter__', '__le__', '__len__', '__lt__']\n",
      "Help on method_descriptor:\n",
      "\n",
      "upper(self, /)\n",
      "    Return a copy of the string converted to uppercase.\n",
      "\n"
     ]
    }
   ],
   "source": [
    "# Explore what Python offers for strings\n",
    "print(type(\"hello\"))         # <class 'str'>\n",
    "print(dir(str)[:20])        # first 20 attributes/methods\n",
    "help(str.upper)             # show docs for a single method (like you did with help(str))"
   ]
  },
  {
   "cell_type": "markdown",
   "id": "0eff64ed-1d91-4837-a9e6-0a22bc09a01e",
   "metadata": {},
   "source": [
    "### 2 — Creation, concatenation, repetition, immutability"
   ]
  },
  {
   "cell_type": "code",
   "execution_count": 56,
   "id": "20574ddb-e1ae-4214-99ad-dbdc72e962de",
   "metadata": {},
   "outputs": [
    {
     "name": "stdout",
     "output_type": "stream",
     "text": [
      "Hello World\n",
      "hahaha\n",
      "hello 2629848890608\n",
      "HELLO 2629874672432\n"
     ]
    }
   ],
   "source": [
    "a = \"Hello\"\n",
    "b = \"World\"\n",
    "print(a + \" \" + b)     # concatenation -> Hello World\n",
    "print(\"ha\" * 3)        # repetition -> hahaha\n",
    "\n",
    "# immutability demo\n",
    "s = \"hello\"\n",
    "print(s, id(s))\n",
    "s2 = s.upper()\n",
    "print(s2, id(s2))\n",
    "# original s unchanged, id changed because strings are immutable"
   ]
  },
  {
   "cell_type": "code",
   "execution_count": 58,
   "id": "4689ae06-acc9-47b9-b0b9-8d12d7709e0f",
   "metadata": {},
   "outputs": [
    {
     "name": "stdout",
     "output_type": "stream",
     "text": [
      "Hello, Raju!\n"
     ]
    }
   ],
   "source": [
    "# Practice: make a greeting \"Hello, Raju!\" using name = \"Raju\" and an f-string:\n",
    "name = \"Raju\"\n",
    "greeting = f\"Hello, {name}!\"\n",
    "print(greeting)"
   ]
  },
  {
   "cell_type": "code",
   "execution_count": null,
   "id": "c64755d0-2b9a-40f7-9264-d1e8cdace5af",
   "metadata": {},
   "outputs": [],
   "source": []
  },
  {
   "cell_type": "markdown",
   "id": "ff39c146-ab65-4d60-b32f-47f6f3c961f2",
   "metadata": {},
   "source": [
    "### 3 — Indexing & slicing"
   ]
  },
  {
   "cell_type": "code",
   "execution_count": 59,
   "id": "f2c68381-fa7f-4b87-8aa1-6fac6352f9a9",
   "metadata": {},
   "outputs": [
    {
     "name": "stdout",
     "output_type": "stream",
     "text": [
      "P n\n",
      "yth\n",
      "Pyt hon\n",
      "Pto\n"
     ]
    }
   ],
   "source": [
    "s = \"Python\"\n",
    "print(s[0], s[-1])    # P n\n",
    "print(s[1:4])         # yth\n",
    "print(s[:3], s[3:])   # Pyt, hon\n",
    "print(s[::2])         # Pto (step slicing)"
   ]
  },
  {
   "cell_type": "code",
   "execution_count": 71,
   "id": "bb0991b3-bac8-4003-baf5-740568ddaa39",
   "metadata": {},
   "outputs": [
    {
     "name": "stdout",
     "output_type": "stream",
     "text": [
      "Science\n",
      "DtSin\n"
     ]
    }
   ],
   "source": [
    "# Practice: from \"DataScience\" print \"Science\" and \"Daaic\" (2-step slice).\n",
    "word = \"DataScience\"\n",
    "print(word[4:])\n",
    "print(word[0:10:2])"
   ]
  },
  {
   "cell_type": "code",
   "execution_count": null,
   "id": "c29f8fc9-ef83-40ca-8287-a7098a19904c",
   "metadata": {},
   "outputs": [],
   "source": []
  },
  {
   "cell_type": "markdown",
   "id": "5ee34f0f-bc87-47ae-aa6f-f0ddfe14c38a",
   "metadata": {},
   "source": [
    "### 4 — Searching, counting, and finding positions"
   ]
  },
  {
   "cell_type": "code",
   "execution_count": 72,
   "id": "b4fb42ad-ba5a-4241-afd9-d2e276c64105",
   "metadata": {},
   "outputs": [
    {
     "name": "stdout",
     "output_type": "stream",
     "text": [
      "5\n",
      "4\n",
      "-1\n"
     ]
    }
   ],
   "source": [
    "txt = \"abracadabra\"\n",
    "print(txt.count(\"a\"))         # occurrences -> 5\n",
    "print(txt.find(\"cad\"))        # index of first occurrence -> 4\n",
    "print(txt.find(\"z\"))          # -1 means not found\n",
    "# .index behaves like find but raises ValueError if not found\n",
    "# rfind / rindex find from the right"
   ]
  },
  {
   "cell_type": "code",
   "execution_count": 78,
   "id": "df099e9c-c650-470d-b45a-7146868b629f",
   "metadata": {},
   "outputs": [
    {
     "data": {
      "text/plain": [
       "10"
      ]
     },
     "execution_count": 78,
     "metadata": {},
     "output_type": "execute_result"
    }
   ],
   "source": [
    "# Practice: find the last index of \"a\" using .rfind().\n",
    "txt.rfind(\"a\")"
   ]
  },
  {
   "cell_type": "code",
   "execution_count": null,
   "id": "0d528fe4-438e-4e83-b9bb-472af3f62ef1",
   "metadata": {},
   "outputs": [],
   "source": []
  },
  {
   "cell_type": "markdown",
   "id": "68bef45c-9f5b-483b-b92e-d9bdc739eeac",
   "metadata": {},
   "source": [
    "### 6 — Case & normalization"
   ]
  },
  {
   "cell_type": "code",
   "execution_count": 79,
   "id": "a3d1e107-563c-489a-aaf0-d0785d4e19fb",
   "metadata": {},
   "outputs": [
    {
     "name": "stdout",
     "output_type": "stream",
     "text": [
      "héllo ß\n",
      "HÉLLO SS\n",
      "héllo ss\n",
      "Hello World\n",
      "HeLLo\n"
     ]
    }
   ],
   "source": [
    "s = \"héLLo ß\"\n",
    "print(s.lower())        # héllo ß\n",
    "print(s.upper())        # HÉLLO SS? (sharp s handled differently by casefold)\n",
    "print(s.casefold())     # best for caseless comparison\n",
    "print(\"hello world\".title())   # Hello World\n",
    "print(\"hEllO\".swapcase())      # HeLLo"
   ]
  },
  {
   "cell_type": "code",
   "execution_count": 80,
   "id": "c0aeb2de-d530-4ba7-b7d7-fd44c6bddde3",
   "metadata": {},
   "outputs": [
    {
     "name": "stdout",
     "output_type": "stream",
     "text": [
      "strasse\n",
      "strasse\n"
     ]
    }
   ],
   "source": [
    "# Practice: compare \"straße\" and \"STRASSE\" in a case-insensitive way (use .casefold()).\n",
    "a1 = \"straße\"\n",
    "a2 = \"STRASSE\"\n",
    "print(a1.casefold())\n",
    "print(a2.casefold())"
   ]
  },
  {
   "cell_type": "code",
   "execution_count": null,
   "id": "fe2e6a68-bd97-49bd-82d2-ef0a4493a507",
   "metadata": {},
   "outputs": [],
   "source": []
  },
  {
   "cell_type": "markdown",
   "id": "7ff93832-19b3-4c07-a69e-e6472eb59505",
   "metadata": {},
   "source": [
    "### 7 — Stripping, padding, filling"
   ]
  },
  {
   "cell_type": "code",
   "execution_count": 81,
   "id": "16335192-8933-4f5a-a316-30e0c3051c86",
   "metadata": {},
   "outputs": [
    {
     "name": "stdout",
     "output_type": "stream",
     "text": [
      "hello\n",
      "hello\n",
      "---hi---\n",
      "00042\n",
      "hi....\n"
     ]
    }
   ],
   "source": [
    "s = \"   hello   \"\n",
    "print(s.strip())         # \"hello\"\n",
    "print(\"xxhelloxx\".strip(\"x\"))  # \"hello\"\n",
    "\n",
    "print(\"hi\".center(8, \"-\"))  # --hi----\n",
    "print(\"42\".zfill(5))        # 00042\n",
    "print(\"hi\".ljust(6, \".\"))   # hi...."
   ]
  },
  {
   "cell_type": "code",
   "execution_count": 82,
   "id": "2044c0f2-cc0a-4839-ab2f-43324bfcc8a0",
   "metadata": {},
   "outputs": [
    {
     "name": "stdout",
     "output_type": "stream",
     "text": [
      "007\n"
     ]
    }
   ],
   "source": [
    "# Practice: left-pad \"7\" to width 3 with zeros (use zfill).\n",
    "print(\"7\".zfill(3))"
   ]
  },
  {
   "cell_type": "code",
   "execution_count": null,
   "id": "eec41b50-6b67-4572-a7b3-8fa145ed101a",
   "metadata": {},
   "outputs": [],
   "source": []
  },
  {
   "cell_type": "markdown",
   "id": "a99436e1-73f6-4938-bec6-9399ebef2d8c",
   "metadata": {},
   "source": [
    "### 8 — Split, rsplit, splitlines, join, partition"
   ]
  },
  {
   "cell_type": "code",
   "execution_count": 84,
   "id": "14ea96df-4153-47af-93dc-52e792e1d776",
   "metadata": {},
   "outputs": [
    {
     "name": "stdout",
     "output_type": "stream",
     "text": [
      "['one', 'two', 'three']\n",
      "['a', 'b', 'c', 'line2']\n",
      "['a b  c', 'line2']\n",
      "one,two,three\n",
      "('a', '-', 'b-c')\n",
      "('a-b', '-', 'c')\n"
     ]
    }
   ],
   "source": [
    "line = \"one,two,three\"\n",
    "parts = line.split(\",\")\n",
    "print(parts)              # ['one','two','three']\n",
    "\n",
    "s = \"a b  c\\nline2\"\n",
    "print(s.split())          # split on whitespace (collapses multiple spaces)\n",
    "print(s.splitlines())     # splitlines on newlines\n",
    "print(\",\".join(parts))    # \"one,two,three\"\n",
    "\n",
    "print(\"a-b-c\".partition(\"-\"))   # ('a','-','b-c')\n",
    "print(\"a-b-c\".rpartition(\"-\"))  # ('a-b','-','c')\n"
   ]
  },
  {
   "cell_type": "code",
   "execution_count": 87,
   "id": "199d49ae-b2fa-4b30-8f04-53f6de27db72",
   "metadata": {},
   "outputs": [
    {
     "name": "stdout",
     "output_type": "stream",
     "text": [
      "['a', 'b', 'c,d']\n"
     ]
    }
   ],
   "source": [
    "# Practice: split \"a,b,c,d\" into ['a','b','c,d'] (use maxsplit=2).\n",
    "\n",
    "line = \"a,b,c,d\"\n",
    "print(line.split(\",\",maxsplit=2))"
   ]
  },
  {
   "cell_type": "code",
   "execution_count": null,
   "id": "98303cd9-b8c2-4f3e-82ea-59ca87742ab9",
   "metadata": {},
   "outputs": [],
   "source": []
  },
  {
   "cell_type": "markdown",
   "id": "a94c3781-50e5-4632-b864-89381eebde2d",
   "metadata": {},
   "source": [
    "### 9 — Replace, removeprefix, removesuffix, translate/maketrans"
   ]
  },
  {
   "cell_type": "code",
   "execution_count": 88,
   "id": "058b24a2-8f32-4def-aa31-0298d7e50501",
   "metadata": {},
   "outputs": [
    {
     "name": "stdout",
     "output_type": "stream",
     "text": [
      "xbrxcadabra\n",
      "test\n",
      "file\n",
      "121\n"
     ]
    }
   ],
   "source": [
    "s = \"abracadabra\"\n",
    "print(s.replace(\"a\", \"x\", 2))  # replace first 2 -> xbrxcadabra\n",
    "\n",
    "print(\"unittest\".removeprefix(\"unit\"))   # \"test\"\n",
    "print(\"file.txt\".removesuffix(\".txt\"))   # \"file\"\n",
    "\n",
    "table = str.maketrans(\"ab\", \"12\")\n",
    "print(\"aba\".translate(table))  # \"121\""
   ]
  },
  {
   "cell_type": "code",
   "execution_count": 90,
   "id": "647f70f2-726b-44ba-9137-9290df4db92e",
   "metadata": {},
   "outputs": [
    {
     "name": "stdout",
     "output_type": "stream",
     "text": [
      "2025-001\n"
     ]
    }
   ],
   "source": [
    "# Practice: remove prefix \"ID-\" from \"ID-2025-001\" using .removeprefix().\n",
    "\n",
    "print(\"ID-2025-001\".removeprefix(\"ID-\"))"
   ]
  },
  {
   "cell_type": "code",
   "execution_count": null,
   "id": "73863141-ead7-45c5-a0ce-c871cb5cc1bd",
   "metadata": {},
   "outputs": [],
   "source": []
  },
  {
   "cell_type": "markdown",
   "id": "a7407e7d-ed3d-491f-ab2d-8b87fa5f4ff5",
   "metadata": {},
   "source": [
    "### 10 — Character tests (isalpha, isdigit, isidentifier, etc.)"
   ]
  },
  {
   "cell_type": "code",
   "execution_count": 92,
   "id": "65e671d1-a303-40b9-8f38-20a575dd8517",
   "metadata": {},
   "outputs": [
    {
     "name": "stdout",
     "output_type": "stream",
     "text": [
      "True\n",
      "True\n",
      "True\n",
      "True\n",
      "True\n"
     ]
    }
   ],
   "source": [
    "print(\"abc\".isalpha())     # True\n",
    "print(\"123\".isdigit())     # True\n",
    "print(\"½\".isnumeric())     # maybe True (different categories)\n",
    "print(\"   \".isspace())     # True\n",
    "print(\"my_var\".isidentifier())  # True"
   ]
  },
  {
   "cell_type": "code",
   "execution_count": null,
   "id": "1331948e-71e1-4f5c-b22e-feefb9990e0a",
   "metadata": {},
   "outputs": [],
   "source": []
  },
  {
   "cell_type": "markdown",
   "id": "7b8b5112-05e8-45d0-9f23-cc44ec96bf89",
   "metadata": {},
   "source": [
    "### 11 — Formatting: format, format_map, f-strings"
   ]
  },
  {
   "cell_type": "code",
   "execution_count": 93,
   "id": "b9961040-b65d-4b8b-abfe-fda366f29e33",
   "metadata": {},
   "outputs": [
    {
     "name": "stdout",
     "output_type": "stream",
     "text": [
      "Hello Raju, age 25\n",
      "Hello Raju, age 25\n",
      "Hello Raju, age 25\n",
      "00042\n"
     ]
    }
   ],
   "source": [
    "name, age = \"Raju\", 25\n",
    "print(\"Hello {}, age {}\".format(name, age))\n",
    "print(\"Hello {n}, age {a}\".format(n=name, a=age))\n",
    "print(f\"Hello {name}, age {age}\")          # f-string (recommended)\n",
    "print(\"{:0>5}\".format(42))                 # pad left with zeros -> 00042"
   ]
  },
  {
   "cell_type": "code",
   "execution_count": 94,
   "id": "fc4c82bd-7579-48df-a600-a29fecce5a4f",
   "metadata": {},
   "outputs": [
    {
     "name": "stdout",
     "output_type": "stream",
     "text": [
      "3.14\n"
     ]
    }
   ],
   "source": [
    "# Practice: format 3.14159 to show only 2 decimal places.\n",
    "pi = 3.14159\n",
    "print(f\"{pi:.2f}\")"
   ]
  },
  {
   "cell_type": "code",
   "execution_count": null,
   "id": "dc3d3a6c-5e59-447d-9463-2a3e09513a4b",
   "metadata": {},
   "outputs": [],
   "source": []
  },
  {
   "cell_type": "markdown",
   "id": "8b76e008-a652-4d5c-9d1e-42adfa6680fc",
   "metadata": {},
   "source": [
    "### 12 — Encoding, size, and bytes"
   ]
  },
  {
   "cell_type": "code",
   "execution_count": 95,
   "id": "1fe146c8-32db-4c0c-8990-2ed51eaa66ff",
   "metadata": {},
   "outputs": [
    {
     "name": "stdout",
     "output_type": "stream",
     "text": [
      "b'caf\\xc3\\xa9'\n",
      "4 5\n",
      "b'?'\n"
     ]
    }
   ],
   "source": [
    "s = \"café\"\n",
    "b = s.encode(\"utf-8\")\n",
    "print(b)                 # b'caf\\xc3\\xa9'\n",
    "print(len(s), len(b))    # characters vs bytes\n",
    "# encode errors example:\n",
    "print(\"é\".encode(\"ascii\", errors=\"replace\"))"
   ]
  },
  {
   "cell_type": "code",
   "execution_count": 96,
   "id": "7edb3107-f3c4-4f71-a2e3-03d3a72581bb",
   "metadata": {},
   "outputs": [
    {
     "name": "stdout",
     "output_type": "stream",
     "text": [
      "b'hello'\n"
     ]
    }
   ],
   "source": [
    "# Practice: encode \"hello\" to UTF-8 and back to string using .decode() on the bytes.\n",
    "text = \"hello\"\n",
    "encoded_text = text.encode(\"utf-8\")\n",
    "print(encoded_text)"
   ]
  },
  {
   "cell_type": "code",
   "execution_count": 97,
   "id": "45069699-354b-42e6-b0c1-ce427cc8cb1b",
   "metadata": {},
   "outputs": [
    {
     "name": "stdout",
     "output_type": "stream",
     "text": [
      "hello\n"
     ]
    }
   ],
   "source": [
    "decoded_text = encoded_text.decode(\"utf-8\")\n",
    "print(decoded_text)"
   ]
  },
  {
   "cell_type": "code",
   "execution_count": 98,
   "id": "f39f4d12-432b-4be8-91aa-ae6028a8bb08",
   "metadata": {},
   "outputs": [
    {
     "name": "stdout",
     "output_type": "stream",
     "text": [
      "Encoded: b'hello' (type: <class 'bytes'>)\n",
      "Decoded: hello (type: <class 'str'>)\n"
     ]
    }
   ],
   "source": [
    "text = \"hello\"\n",
    "\n",
    "# Encode to bytes\n",
    "encoded_text = text.encode(\"utf-8\")\n",
    "print(f\"Encoded: {encoded_text} (type: {type(encoded_text)})\")\n",
    "\n",
    "# Decode back to string\n",
    "decoded_text = encoded_text.decode(\"utf-8\")\n",
    "print(f\"Decoded: {decoded_text} (type: {type(decoded_text)})\")"
   ]
  },
  {
   "cell_type": "code",
   "execution_count": null,
   "id": "f95e2fac-0937-41ce-8c5d-364043d807a8",
   "metadata": {},
   "outputs": [],
   "source": []
  },
  {
   "cell_type": "markdown",
   "id": "cb45153f-d49e-4537-9b97-acc742bc951b",
   "metadata": {},
   "source": [
    "### Quiz: Variables, Numbers and Strings"
   ]
  },
  {
   "cell_type": "code",
   "execution_count": 2,
   "id": "fc72f475-5d5c-4d33-8dd4-8b6bc19312fa",
   "metadata": {},
   "outputs": [
    {
     "name": "stdout",
     "output_type": "stream",
     "text": [
      "False\n"
     ]
    }
   ],
   "source": [
    "#Q1. What will be the output of the following code?\n",
    "\n",
    "word = \"Python\"\n",
    "print(\"PyT\" in word)"
   ]
  },
  {
   "cell_type": "code",
   "execution_count": 6,
   "id": "b66f1c07-617c-4306-b02b-fa49ad5e96b1",
   "metadata": {},
   "outputs": [
    {
     "data": {
      "text/plain": [
       "17"
      ]
     },
     "execution_count": 6,
     "metadata": {},
     "output_type": "execute_result"
    }
   ],
   "source": [
    "#Q2. What will be the output of the following operation: \n",
    "5 + 4 * 3"
   ]
  },
  {
   "cell_type": "code",
   "execution_count": 7,
   "id": "4cf77a17-b397-49e7-aa68-a261253539c0",
   "metadata": {},
   "outputs": [
    {
     "name": "stdout",
     "output_type": "stream",
     "text": [
      "11\n"
     ]
    }
   ],
   "source": [
    "#Q3. What will the following code return?\n",
    "\n",
    "empty_string = \"AI Engineer\"\n",
    "print(len(empty_string))"
   ]
  },
  {
   "cell_type": "code",
   "execution_count": 8,
   "id": "94810888-c8aa-4956-bf25-7aac38a3b160",
   "metadata": {},
   "outputs": [
    {
     "data": {
      "text/plain": [
       "1"
      ]
     },
     "execution_count": 8,
     "metadata": {},
     "output_type": "execute_result"
    }
   ],
   "source": [
    "#Q4. What is the output in Python\n",
    "-9 % 2 "
   ]
  },
  {
   "cell_type": "code",
   "execution_count": 9,
   "id": "93c5fcd0-177b-456a-a932-b13e8d4cb294",
   "metadata": {},
   "outputs": [],
   "source": [
    "#Q5. Which of the following is the correct way to declare a variable in Python?\n",
    "x = 10"
   ]
  },
  {
   "cell_type": "code",
   "execution_count": 10,
   "id": "1ea3dbc4-0603-485d-abd4-80415b5178bb",
   "metadata": {},
   "outputs": [
    {
     "name": "stdout",
     "output_type": "stream",
     "text": [
      "False\n"
     ]
    }
   ],
   "source": [
    "#Q6. What will the following code return?\n",
    "\n",
    "s = \"12345a\"\n",
    "print(s.isdigit())"
   ]
  },
  {
   "cell_type": "code",
   "execution_count": 11,
   "id": "0779935a-d191-49cc-9d0b-473fead1e906",
   "metadata": {},
   "outputs": [
    {
     "name": "stdout",
     "output_type": "stream",
     "text": [
      "ataS\n"
     ]
    }
   ],
   "source": [
    "# What will the following slice operation return?\n",
    "\n",
    "s = \"DataScience\"\n",
    "print(s[1:5])"
   ]
  },
  {
   "cell_type": "code",
   "execution_count": null,
   "id": "7237e0d1-ba76-49e0-9e72-cb1e82853bfa",
   "metadata": {},
   "outputs": [],
   "source": []
  },
  {
   "cell_type": "markdown",
   "id": "d39a572e-1097-42cb-8e6d-5bcb701f4fa6",
   "metadata": {},
   "source": [
    "<h2 align=\"center\" style=\"color:blue\"> Python Course: Exercise - Variables, Numbers, Strings</h2>"
   ]
  },
  {
   "cell_type": "markdown",
   "id": "3f559aa8-cc98-4fbf-b00a-0be5eeca24c1",
   "metadata": {},
   "source": [
    "### Task 1\n",
    "\n",
    "Create a variable named pi and store the value 22/7 in it. Now check the data type of this variable."
   ]
  },
  {
   "cell_type": "code",
   "execution_count": 13,
   "id": "73c841c4-766b-4f93-86da-fc2ba0231201",
   "metadata": {},
   "outputs": [],
   "source": [
    "# creating variable named pi\n",
    "pi = 22/7"
   ]
  },
  {
   "cell_type": "code",
   "execution_count": 14,
   "id": "9b07abd0-5426-4f99-b3d4-d3eae81f4b3e",
   "metadata": {},
   "outputs": [
    {
     "name": "stdout",
     "output_type": "stream",
     "text": [
      "3.142857142857143\n"
     ]
    }
   ],
   "source": [
    "print(pi)"
   ]
  },
  {
   "cell_type": "code",
   "execution_count": 15,
   "id": "24932b5d-796f-4f9c-8dc0-67a9526e5112",
   "metadata": {},
   "outputs": [
    {
     "data": {
      "text/plain": [
       "float"
      ]
     },
     "execution_count": 15,
     "metadata": {},
     "output_type": "execute_result"
    }
   ],
   "source": [
    "# checking the datatype\n",
    "type(pi)"
   ]
  },
  {
   "cell_type": "code",
   "execution_count": null,
   "id": "787c660f-283b-4be1-8ee9-5574d53fd94d",
   "metadata": {},
   "outputs": [],
   "source": []
  },
  {
   "cell_type": "markdown",
   "id": "9491f70b-4734-46d7-9f73-b8db058d8ae8",
   "metadata": {},
   "source": [
    "### Task 2\n",
    "\n",
    "Create a variable called ```for``` and assign it a value 4. See what happens and find out the reason behind the behavior that you see."
   ]
  },
  {
   "cell_type": "code",
   "execution_count": 16,
   "id": "dfb2bbe9-ea1d-4ef8-af18-d77cdf4a6cc2",
   "metadata": {},
   "outputs": [
    {
     "ename": "SyntaxError",
     "evalue": "invalid syntax (3292397425.py, line 2)",
     "output_type": "error",
     "traceback": [
      "\u001b[1;36m  Cell \u001b[1;32mIn[16], line 2\u001b[1;36m\u001b[0m\n\u001b[1;33m    for = 4\u001b[0m\n\u001b[1;37m        ^\u001b[0m\n\u001b[1;31mSyntaxError\u001b[0m\u001b[1;31m:\u001b[0m invalid syntax\n"
     ]
    }
   ],
   "source": [
    "# 2. creating for variable\n",
    "for = 4"
   ]
  },
  {
   "cell_type": "markdown",
   "id": "7e71ebea-b4fe-4f64-bd95-e953158e9f17",
   "metadata": {},
   "source": [
    "SyntaxError occured becuase for is a reserved keyword in python. We cannot use reserved keywords for making variable names."
   ]
  },
  {
   "cell_type": "code",
   "execution_count": null,
   "id": "ab649f29-f3ee-41c2-b0dd-e6d2c1f46f61",
   "metadata": {},
   "outputs": [],
   "source": []
  },
  {
   "cell_type": "markdown",
   "id": "24ed9d93-62a3-4473-9459-7bdd0a9261ef",
   "metadata": {},
   "source": [
    "### Task 3\n",
    "\n",
    "Below we have defined the variables for storing the principal amount, rate of interest and time. You need to calculate the simple interest for 3 years. Once simple interest is calculated, calculate the total amount you will have at the end of the tenure\n",
    "\n",
    "Tip 💡: Feel free to take help of ChatGPT or Google in the case you do not know the formula for simple interest. "
   ]
  },
  {
   "cell_type": "code",
   "execution_count": 19,
   "id": "b6f5077e-5bd5-4d14-b817-ea62fffb964e",
   "metadata": {},
   "outputs": [],
   "source": [
    "principle_amount = 567.00\n",
    "rate_of_interest = 5.6\n",
    "time = 3"
   ]
  },
  {
   "cell_type": "markdown",
   "id": "7b6314a5-cc4b-4d55-93ec-eb49c5ff9f88",
   "metadata": {},
   "source": [
    "Now let's calculate the simple intrest using simple math formula:\n",
    "\n",
    "`simple interest  = P x R x T / 100`\n",
    "\n",
    "where: \n",
    " \n",
    "    P = principle amount\n",
    "    R = rate of interest\n",
    "    T = time \n",
    "\n"
   ]
  },
  {
   "cell_type": "code",
   "execution_count": 21,
   "id": "03caeebe-0c33-4142-bcdd-a84f808c9e8d",
   "metadata": {},
   "outputs": [
    {
     "data": {
      "text/plain": [
       "95.25599999999999"
      ]
     },
     "execution_count": 21,
     "metadata": {},
     "output_type": "execute_result"
    }
   ],
   "source": [
    "simple_interest = principle_amount * rate_of_interest * time / 100\n",
    "simple_interest"
   ]
  },
  {
   "cell_type": "code",
   "execution_count": 22,
   "id": "839963a0-f1d7-48bc-aebe-52d0c121ebb7",
   "metadata": {},
   "outputs": [
    {
     "name": "stdout",
     "output_type": "stream",
     "text": [
      "662.256\n"
     ]
    }
   ],
   "source": [
    "# total amount after including interest\n",
    "total_amount = principle_amount + simple_interest\n",
    "print(total_amount)"
   ]
  },
  {
   "cell_type": "code",
   "execution_count": null,
   "id": "0587f0cd-9588-47b5-af63-0da391e29a69",
   "metadata": {},
   "outputs": [],
   "source": []
  },
  {
   "cell_type": "markdown",
   "id": "f65fc427-d41b-4294-832c-0907821ecbc9",
   "metadata": {},
   "source": [
    "### Task 4\n",
    "\n",
    "There is a circular pond in a village. This pond has a radius of 84 meter. Can you find the area of the pond?\n",
    "\n",
    "**Note:** For simplicity, use the value of pi as 3.14."
   ]
  },
  {
   "cell_type": "code",
   "execution_count": 23,
   "id": "39407c01-c8b5-4731-a30f-ef7ee705d2b8",
   "metadata": {},
   "outputs": [
    {
     "data": {
      "text/plain": [
       "22155.84"
      ]
     },
     "execution_count": 23,
     "metadata": {},
     "output_type": "execute_result"
    }
   ],
   "source": [
    "radius = 84\n",
    "\n",
    "pond_area = 3.14 * radius ** 2 # circle area = pi*r^2\n",
    "pond_area"
   ]
  },
  {
   "cell_type": "code",
   "execution_count": null,
   "id": "d7fd80a6-97b3-4590-aa63-95b2eb483f63",
   "metadata": {},
   "outputs": [],
   "source": []
  },
  {
   "cell_type": "markdown",
   "id": "d2ef680f-4140-4b0f-a525-1fc5d111ec87",
   "metadata": {},
   "source": [
    "### Task 5\n",
    "\n",
    "If there is a 2000 liter water in a square meter, what is the total amount of water in this pond?"
   ]
  },
  {
   "cell_type": "code",
   "execution_count": 24,
   "id": "3e0aa936-f318-4466-a4a3-ef45b2a46e08",
   "metadata": {},
   "outputs": [
    {
     "data": {
      "text/plain": [
       "44311680.0"
      ]
     },
     "execution_count": 24,
     "metadata": {},
     "output_type": "execute_result"
    }
   ],
   "source": [
    "per_sqt_meter_water = 2000\n",
    "total_water = pond_area*per_sqt_meter_water\n",
    "total_water"
   ]
  },
  {
   "cell_type": "code",
   "execution_count": null,
   "id": "0620d317-4c96-40b3-9942-49bff65500e9",
   "metadata": {},
   "outputs": [],
   "source": []
  },
  {
   "cell_type": "markdown",
   "id": "42dace77-1618-4f0b-8669-0d0596dc831a",
   "metadata": {},
   "source": [
    "### Task 6\n",
    "\n",
    "If you cross a 490-meter-long street in 7 minutes, then what is your speed in meter per seconds. Print your answer with only two decimal points\n",
    "\n",
    "Hint:\n",
    "        Speed = Distance / Time"
   ]
  },
  {
   "cell_type": "code",
   "execution_count": 25,
   "id": "429d35ae-4724-4fa7-b2eb-a2d4548b430c",
   "metadata": {},
   "outputs": [
    {
     "data": {
      "text/plain": [
       "1.1666666666666667"
      ]
     },
     "execution_count": 25,
     "metadata": {},
     "output_type": "execute_result"
    }
   ],
   "source": [
    "distance = 490\n",
    "time_in_seconds = 7 * 60 # 7 minutes is 7*60 seconds\n",
    "\n",
    "speed = distance / time_in_seconds\n",
    "speed"
   ]
  },
  {
   "cell_type": "code",
   "execution_count": 26,
   "id": "4ff81677-3726-478d-ac00-1a125d61a33a",
   "metadata": {},
   "outputs": [
    {
     "data": {
      "text/plain": [
       "1.17"
      ]
     },
     "execution_count": 26,
     "metadata": {},
     "output_type": "execute_result"
    }
   ],
   "source": [
    "round(speed, 2)"
   ]
  },
  {
   "cell_type": "code",
   "execution_count": null,
   "id": "f8b0ecfd-aac1-4c70-b4ab-d894cb0f7364",
   "metadata": {},
   "outputs": [],
   "source": []
  },
  {
   "cell_type": "markdown",
   "id": "a624208b-d3e8-421f-adc7-6e3e234591db",
   "metadata": {},
   "source": [
    "### Task 7\n",
    "\n",
    "Create two variables to store how many fruits and vegetables you eat in a day. The value should be numeric for example 3 fruits and 4 vegetables. Now Print \"I eat x vegetables and y fruits daily\" where x and y presents vegetables and fruits that you eat every day. Use python f string for this."
   ]
  },
  {
   "cell_type": "code",
   "execution_count": 27,
   "id": "acdb0d6e-ab09-4a72-8aa6-70238db78b40",
   "metadata": {},
   "outputs": [
    {
     "name": "stdout",
     "output_type": "stream",
     "text": [
      "I eat 4 vegetables and 2 fruits daily\n"
     ]
    }
   ],
   "source": [
    "n_fruits = 2\n",
    "n_vegatables = 4\n",
    "\n",
    "print(f\"I eat {n_vegatables} vegetables and {n_fruits} fruits daily\")"
   ]
  },
  {
   "cell_type": "code",
   "execution_count": null,
   "id": "2b57a867-302d-491b-b965-81d502d343a4",
   "metadata": {},
   "outputs": [],
   "source": []
  },
  {
   "cell_type": "markdown",
   "id": "25f6dcd3-3589-4b46-879e-ef8264e5dbe4",
   "metadata": {},
   "source": [
    "### Task 8\n",
    "\n",
    "Create a variable and store the string “The Himalayas are one of the youngest mountain range on the planet.”\n",
    "\n",
    "1. Print ‘The Himalayas’ using slice operator\n",
    "1. Print “mountain range” using negative index\n",
    "1. Print “The Himalayas on the planet” using slice as well as f-string"
   ]
  },
  {
   "cell_type": "code",
   "execution_count": 29,
   "id": "5ef7f7c5-0cbc-43d2-8353-3cb5edc52f4d",
   "metadata": {},
   "outputs": [
    {
     "name": "stdout",
     "output_type": "stream",
     "text": [
      "The Himalayas\n",
      "mountain range\n",
      "The Himalayas on the planet.\n"
     ]
    }
   ],
   "source": [
    "string = \"The Himalayas are one of the youngest mountain range on the planet.\"\n",
    "\n",
    "#printing the himalayas\n",
    "print(string[0:13])\n",
    "\n",
    "# printing mountain range\n",
    "print(string[-29:-15])\n",
    "\n",
    "# printing The Himalayas on the planet\n",
    "print(f\"{string[0:13]} {string[-14:]}\")"
   ]
  },
  {
   "cell_type": "code",
   "execution_count": null,
   "id": "d6a77de1-c536-4f05-aafe-5c44fa3b9b6f",
   "metadata": {},
   "outputs": [],
   "source": []
  },
  {
   "cell_type": "markdown",
   "id": "c654d79d-0d30-417c-ab2b-28fd2f0e2bb6",
   "metadata": {},
   "source": [
    "### Task 9\n",
    "\n",
    "You have created a string variable called string= ”There are 9 planets in the solar system”. After some time, you have realized that your sentence is incorrect and there are only 8 planets, now correct your sentence by replacing the incorrect words."
   ]
  },
  {
   "cell_type": "code",
   "execution_count": null,
   "id": "6a7dc87c-c19f-48e7-a17c-e1cccb51aae2",
   "metadata": {},
   "outputs": [],
   "source": [
    "string = \"There are 9 planets in the solar system\"\n",
    "\n",
    "# replacing the 9 with 8\n",
    "string = string.replace('9', '8')\n",
    "print(string)"
   ]
  },
  {
   "cell_type": "code",
   "execution_count": null,
   "id": "13e426f5-44e2-4d05-acc9-64e7e7c9dbde",
   "metadata": {},
   "outputs": [],
   "source": []
  },
  {
   "cell_type": "markdown",
   "id": "9a128546-4b78-46ff-bf15-674dbbc616f7",
   "metadata": {},
   "source": [
    "### Task 10\n",
    "\n",
    "Imagine you are a shop owner tracking sales of three products throughout the day. At the end of the day, you want to calculate the total sales from these products. Product quantity and prices are given below in the next code cell,\n",
    "\n",
    "Task: Write a program that:\n",
    "\n",
    "1. Calculates the total sales for each product.\n",
    "1. Summarizes the total sales for the day.\n",
    "1. Prints this summary in a formatted manner.\n",
    "\n",
    "Expected Output:\n",
    "\n",
    "```\n",
    "Daily Sales Summary:\n",
    "- Product 1: Sold 15 units at $20.0 each, Total: $300.0\n",
    "- Product 2: Sold 10 units at $35.0 each, Total: $350.0\n",
    "- Product 3: Sold 20 units at $12.0 each, Total: $240.0\n",
    "Total Sales for the Day: $890.0\n",
    "```"
   ]
  },
  {
   "cell_type": "code",
   "execution_count": 30,
   "id": "2af779d2-f632-44dc-badf-8ae2ff12d508",
   "metadata": {},
   "outputs": [],
   "source": [
    "# Prices and quantities for each product\n",
    "product1_price = 20.0  # Price per unit for product 1\n",
    "product1_quantity = 15  # Quantity sold of product 1\n",
    "\n",
    "product2_price = 35.0  # Price per unit for product 2\n",
    "product2_quantity = 10  # Quantity sold of product 2\n",
    "\n",
    "product3_price = 12.0  # Price per unit for product 3\n",
    "product3_quantity = 20  # Quantity sold of product 3"
   ]
  },
  {
   "cell_type": "code",
   "execution_count": 31,
   "id": "dbc6202b-30b2-48e3-ac6d-364f911ee962",
   "metadata": {},
   "outputs": [
    {
     "name": "stdout",
     "output_type": "stream",
     "text": [
      "Daily Sales Summary:\n",
      "- Product 1: Sold 15 units at $20.0 each, Total: $300.0\n",
      "- Product 2: Sold 10 units at $35.0 each, Total: $350.0\n",
      "- Product 3: Sold 20 units at $12.0 each, Total: $240.0\n",
      "Total Sales for the Day: $890.0\n"
     ]
    }
   ],
   "source": [
    "# Calculating total sales for each product\n",
    "total_sales_product1 = product1_price * product1_quantity\n",
    "total_sales_product2 = product2_price * product2_quantity\n",
    "total_sales_product3 = product3_price * product3_quantity\n",
    "\n",
    "# Calculating total sales for the day\n",
    "total_sales_day = total_sales_product1 + total_sales_product2 + total_sales_product3\n",
    "\n",
    "# Printing the sales summary\n",
    "print(\"Daily Sales Summary:\")\n",
    "print(f\"- Product 1: Sold {product1_quantity} units at ${product1_price} each, Total: ${total_sales_product1}\")\n",
    "print(f\"- Product 2: Sold {product2_quantity} units at ${product2_price} each, Total: ${total_sales_product2}\")\n",
    "print(f\"- Product 3: Sold {product3_quantity} units at ${product3_price} each, Total: ${total_sales_product3}\")\n",
    "print(f\"Total Sales for the Day: ${total_sales_day}\")"
   ]
  },
  {
   "cell_type": "code",
   "execution_count": null,
   "id": "ed775692-fad7-4b6a-abd6-0e77c789d305",
   "metadata": {},
   "outputs": [],
   "source": []
  },
  {
   "cell_type": "markdown",
   "id": "a098f5c9-e2a5-4a78-9dbc-87cd1f214120",
   "metadata": {},
   "source": [
    "<h2 align=\"center\" style=\"color:blue\"> Python Course: Summary - Variables, Numbers, Strings</h2>"
   ]
  },
  {
   "cell_type": "markdown",
   "id": "c99cc46a-2615-43bc-bda4-ab257e35258c",
   "metadata": {},
   "source": [
    "### Variables\n",
    "1. Variables are containers that store data in aPython program\n",
    "2. Rules of naming variables correctly,\n",
    "   - You can not use reserve words asvariable names (e.g. def, True etc.)\n",
    "   - Variable names must start with a letteror an underscore _\n",
    "   - It cannot contain spaces or specialcharacters (@, #, $, %, etc.)\n",
    "   - Underscore _ is a valid character and canbe present at any place in a variablename13Variables"
   ]
  },
  {
   "cell_type": "markdown",
   "id": "cad3c4b7-4c1a-4704-ac97-17dbe927cd10",
   "metadata": {},
   "source": [
    "### Numbers\n",
    "1. Integer numbers store whole numbers (without decimal part), e.g. 57\n",
    "2. Float numbers store fractional numbers with whole and decimal part, e.g. 57.232\n",
    "3. type(variable_name) can be used to detect the data type of a variable\n",
    "4. / operator is used for division whereas // is used to retrieve integer part of the division\n",
    "5. % is a modulo operator, it returns the remainder of a division operation\n",
    "6. x**y will return x raised to the power of y\n",
    "7. You can do type casting using functions such as float(), int(), str() etc.\n",
    "8. float(“10.2”) will convert string value “10.2” to a float value 10.2\n",
    "9. math is a handy module in Python that allows you to run different functions such as sqrt, floor, ceil etc."
   ]
  },
  {
   "cell_type": "code",
   "execution_count": null,
   "id": "23b9676e-bcde-4826-bb02-7eb98a64b107",
   "metadata": {},
   "outputs": [],
   "source": []
  }
 ],
 "metadata": {
  "kernelspec": {
   "display_name": "Python 3 (ipykernel)",
   "language": "python",
   "name": "python3"
  },
  "language_info": {
   "codemirror_mode": {
    "name": "ipython",
    "version": 3
   },
   "file_extension": ".py",
   "mimetype": "text/x-python",
   "name": "python",
   "nbconvert_exporter": "python",
   "pygments_lexer": "ipython3",
   "version": "3.10.11"
  }
 },
 "nbformat": 4,
 "nbformat_minor": 5
}
